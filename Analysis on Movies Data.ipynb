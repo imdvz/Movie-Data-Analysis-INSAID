{
 "cells": [
  {
   "cell_type": "markdown",
   "metadata": {
    "colab_type": "text",
    "id": "9ku0h8OsoHJz"
   },
   "source": [
    "<p align=\"center\"><img src=\"https://github.com/insaid2018/Term-1/blob/master/Images/INSAID_Full%20Logo.png?raw=true\" width=\"260\" height=\"110\" /></p>"
   ]
  },
  {
   "cell_type": "markdown",
   "metadata": {
    "colab_type": "text",
    "id": "NWvRwRdGoK5Y"
   },
   "source": [
    "---\n",
    "# **Table of Contents**\n",
    "---\n",
    "\n",
    "1. [**Introduction**](#Section1)<br>\n",
    "2. [**Problem Statement**](#Section2)<br>\n",
    "3. [**Installing & Importing Libraries**](#Section3)<br>\n",
    "  3.1 [**Installing Libraries**](#Section31)<br>\n",
    "  3.2 [**Upgrading Libraries**](#Section32)<br>\n",
    "  3.3 [**Importing Libraries**](#Section33)<br>\n",
    "4. [**Data Acquisition & Description**](#Section4)<br>\n",
    "5. [**Data Pre-Profiling**](#Section5)<br>\n",
    "6. [**Data Pre-Processing**](#Section6)<br>\n",
    "7. [**Data Post-Profiling**](#Section7)<br>\n",
    "8. [**Exploratory Data Analysis**](#Section8)<br>\n",
    "9. [**Summarization**](#Section9)</br>\n",
    "  9.1 [**Conclusion**](#Section91)</br>\n",
    "  9.2 [**Actionable Insights**](#Section91)</br>\n",
    "\n",
    "---"
   ]
  },
  {
   "cell_type": "markdown",
   "metadata": {
    "colab_type": "text",
    "id": "iACv_4iIoaLi"
   },
   "source": [
    "---\n",
    "<a name = Section1></a>\n",
    "# **1. Introduction**\n",
    "---\n",
    "\n",
    "- Write down some interesting introduction related to the topic.\n",
    "\n",
    "- Surf out over the internet and do some research about what is happening in real life.\n",
    "\n",
    "- Try out and make some concrete points about your point of view."
   ]
  },
  {
   "cell_type": "markdown",
   "metadata": {
    "colab_type": "text",
    "id": "sOGJAM3AoePy"
   },
   "source": [
    "---\n",
    "<a name = Section2></a>\n",
    "# **2. Problem Statement**\n",
    "---\n",
    "\n",
    "- This section is emphasised on providing some generic introduction to the problem that most companies confronts.\n",
    "- **Problem Statement:**\n",
    "  - Has the film/movie industry became more popular than ever? Please give solution to support your answer.\n",
    "\n",
    "  - In 2018, movies made total income around $ 41.7 billion throughout the world.\n",
    "\n",
    "  - But what movies make the most money at the box office?\n",
    "\n",
    "  - Does a director matter?\n",
    "  \n",
    "  - Which is the top movie according to revenue?\n",
    "  \n",
    "  - Which is the top movie according to Metascore?\n",
    "  \n",
    "  - Which movie has the highest rating?\n",
    "  \n",
    "  - Which is the top revenue making movie for each year?\n",
    "  \n",
    "  - What are the top 10 most revenue making directors?\n",
    "\n",
    "<p align=\"center\"><img src=\"https://webstockreview.net/images/cinema-clipart-cartoon-19.png\"></p>\n",
    "\n",
    "- Derive a scenario related to the problem statement and heads on to the journey of exploration.\n",
    "\n",
    "- **Example Scenario:**\n",
    "\n",
    "  - Cinemania, an American Box Office where tickets are sold to the public for movies.\n",
    "\n",
    "  - Over the past few years, it has become one of the most liked and visited place in different areas.\n",
    "\n",
    "  - They are planning to add new services and enhance the quality of existing services.\n",
    "\n",
    "  - To achieve a desired objective they need a guidance in a most effective way.\n",
    "\n",
    "  - To tackle this problem they hired a genius team of data scientists. Consider you are one of them..."
   ]
  },
  {
   "cell_type": "markdown",
   "metadata": {
    "colab_type": "text",
    "id": "yzSAH3m9pLWi"
   },
   "source": [
    "---\n",
    "<a id = Section3></a>\n",
    "# **3. Installing & Importing Libraries**\n",
    "---\n",
    "\n",
    "- This section is emphasised on installing and importing the necessary libraries that will be required."
   ]
  },
  {
   "cell_type": "markdown",
   "metadata": {
    "colab_type": "text",
    "id": "M0y7joFPpOuQ"
   },
   "source": [
    "### **Installing Libraries**"
   ]
  },
  {
   "cell_type": "code",
   "execution_count": null,
   "metadata": {
    "colab": {},
    "colab_type": "code",
    "id": "S3pqantTnmxX"
   },
   "outputs": [],
   "source": [
    "!pip install -q datascience                                         # Package that is required by pandas profiling\n",
    "!pip install -q pandas-profiling                                    # Library to generate basic statistics about data\n",
    "# To install more libraries insert your code here.."
   ]
  },
  {
   "cell_type": "markdown",
   "metadata": {
    "colab_type": "text",
    "id": "pYQrkcl4pe8J"
   },
   "source": [
    "### **Upgrading Libraries**\n",
    "\n",
    "- **After upgrading** the libraries, you need to **restart the runtime** to make the libraries in sync.\n",
    "\n",
    "- Make sure not to execute the cell under Installing Libraries and Upgrading Libraries again after restarting the runtime."
   ]
  },
  {
   "cell_type": "code",
   "execution_count": null,
   "metadata": {
    "colab": {},
    "colab_type": "code",
    "id": "dmiiVvd-phhY"
   },
   "outputs": [],
   "source": [
    "!pip install -q --upgrade pandas-profiling                          # Upgrading pandas profiling to the latest version"
   ]
  },
  {
   "cell_type": "markdown",
   "metadata": {
    "colab_type": "text",
    "id": "PbyRyjDhpoJj"
   },
   "source": [
    "### **Importing Libraries**\n",
    "\n",
    "- You can headstart with the basic libraries as imported inside the cell below.\n",
    "\n",
    "- If you want to import some additional libraries, feel free to do so.\n"
   ]
  },
  {
   "cell_type": "code",
   "execution_count": 1,
   "metadata": {
    "colab": {},
    "colab_type": "code",
    "id": "5RapekFlpptb"
   },
   "outputs": [],
   "source": [
    "#-------------------------------------------------------------------------------------------------------------------------------\n",
    "import pandas as pd                                                 # Importing package pandas (For Panel Data Analysis)\n",
    "from pandas_profiling import ProfileReport                          # Import Pandas Profiling (To generate Univariate Analysis)\n",
    "#-------------------------------------------------------------------------------------------------------------------------------\n",
    "import numpy as np                                                  # Importing package numpys (For Numerical Python)\n",
    "#-------------------------------------------------------------------------------------------------------------------------------\n",
    "import matplotlib.pyplot as plt                                     # Importing pyplot interface to use matplotlib\n",
    "import seaborn as sns                                               # Importing seaborn library for interactive visualization\n",
    "%matplotlib inline\n",
    "#-------------------------------------------------------------------------------------------------------------------------------\n",
    "import scipy as sp                                                  # Importing library for scientific calculations\n",
    "#-------------------------------------------------------------------------------------------------------------------------------"
   ]
  },
  {
   "cell_type": "markdown",
   "metadata": {
    "colab_type": "text",
    "id": "ys9Qb4OlpzvZ"
   },
   "source": [
    "---\n",
    "<a name = Section4></a>\n",
    "# **4. Data Acquisition & Description**\n",
    "---\n",
    "\n",
    "- This section is emphasised on the accquiring the data and obtain some descriptive information out of it.\n",
    "\n",
    "- You could either scrap the data and then continue, or use a direct source of link (generally preferred in most cases).\n",
    "\n",
    "- You will be working with a direct source of link to head start your work without worrying about anything.\n",
    "\n",
    "- Before going further you must have a good idea about the features of the data set:\n",
    "\n",
    "|Id|Feature|Description|\n",
    "|:--|:--|:--|\n",
    "|01|Rank|Movie Rank| \n",
    "|02| Title | Title of the movie|  \n",
    "|03| Genre | The various Genre that the movie can be associated with| \n",
    "|04| Description| Short description about the movie|   \n",
    "|05| Director| Director of the movie|\n",
    "|06| Actors| Main actors in the movie|\n",
    "|07| Year| Year in which the movie was released|\n",
    "|08| Runtime (minutes)| Total movie playing time|\n",
    "|09| Rating | Movie rating|\n",
    "|10| Votes| Vores for the movie|\n",
    "|11| Revenue (Millions)| Revenue by the movie (in millions)|\n",
    "|12| Metascore| Is the score of the movie on the metacritic website by critics|\n"
   ]
  },
  {
   "cell_type": "code",
   "execution_count": 41,
   "metadata": {
    "colab": {
     "base_uri": "https://localhost:8080/",
     "height": 374
    },
    "colab_type": "code",
    "executionInfo": {
     "elapsed": 1036,
     "status": "ok",
     "timestamp": 1600334722474,
     "user": {
      "displayName": "Mukesh Kumar",
      "photoUrl": "",
      "userId": "01238672520445611335"
     },
     "user_tz": -330
    },
    "id": "aXPrewndpw1T",
    "outputId": "2506318d-c949-4f11-847a-2ec70c26e8ab"
   },
   "outputs": [
    {
     "name": "stdout",
     "output_type": "stream",
     "text": [
      "Data Shape: (1000, 12)\n"
     ]
    },
    {
     "data": {
      "text/html": [
       "<div>\n",
       "<style scoped>\n",
       "    .dataframe tbody tr th:only-of-type {\n",
       "        vertical-align: middle;\n",
       "    }\n",
       "\n",
       "    .dataframe tbody tr th {\n",
       "        vertical-align: top;\n",
       "    }\n",
       "\n",
       "    .dataframe thead th {\n",
       "        text-align: right;\n",
       "    }\n",
       "</style>\n",
       "<table border=\"1\" class=\"dataframe\">\n",
       "  <thead>\n",
       "    <tr style=\"text-align: right;\">\n",
       "      <th></th>\n",
       "      <th>Rank</th>\n",
       "      <th>Title</th>\n",
       "      <th>Genre</th>\n",
       "      <th>Description</th>\n",
       "      <th>Director</th>\n",
       "      <th>Actors</th>\n",
       "      <th>Year</th>\n",
       "      <th>Runtime (Minutes)</th>\n",
       "      <th>Rating</th>\n",
       "      <th>Votes</th>\n",
       "      <th>Revenue (Millions)</th>\n",
       "      <th>Metascore</th>\n",
       "    </tr>\n",
       "  </thead>\n",
       "  <tbody>\n",
       "    <tr>\n",
       "      <th>0</th>\n",
       "      <td>1</td>\n",
       "      <td>Guardians of the Galaxy</td>\n",
       "      <td>Action,Adventure,Sci-Fi</td>\n",
       "      <td>A group of intergalactic criminals are forced ...</td>\n",
       "      <td>James Gunn</td>\n",
       "      <td>Chris Pratt, Vin Diesel, Bradley Cooper, Zoe S...</td>\n",
       "      <td>2014</td>\n",
       "      <td>121</td>\n",
       "      <td>8.1</td>\n",
       "      <td>757074</td>\n",
       "      <td>333.13</td>\n",
       "      <td>76.0</td>\n",
       "    </tr>\n",
       "    <tr>\n",
       "      <th>1</th>\n",
       "      <td>2</td>\n",
       "      <td>Prometheus</td>\n",
       "      <td>Adventure,Mystery,Sci-Fi</td>\n",
       "      <td>Following clues to the origin of mankind, a te...</td>\n",
       "      <td>Ridley Scott</td>\n",
       "      <td>Noomi Rapace, Logan Marshall-Green, Michael Fa...</td>\n",
       "      <td>2012</td>\n",
       "      <td>124</td>\n",
       "      <td>7.0</td>\n",
       "      <td>485820</td>\n",
       "      <td>126.46</td>\n",
       "      <td>65.0</td>\n",
       "    </tr>\n",
       "    <tr>\n",
       "      <th>2</th>\n",
       "      <td>3</td>\n",
       "      <td>Split</td>\n",
       "      <td>Horror,Thriller</td>\n",
       "      <td>Three girls are kidnapped by a man with a diag...</td>\n",
       "      <td>M. Night Shyamalan</td>\n",
       "      <td>James McAvoy, Anya Taylor-Joy, Haley Lu Richar...</td>\n",
       "      <td>2016</td>\n",
       "      <td>117</td>\n",
       "      <td>7.3</td>\n",
       "      <td>157606</td>\n",
       "      <td>138.12</td>\n",
       "      <td>62.0</td>\n",
       "    </tr>\n",
       "    <tr>\n",
       "      <th>3</th>\n",
       "      <td>4</td>\n",
       "      <td>Sing</td>\n",
       "      <td>Animation,Comedy,Family</td>\n",
       "      <td>In a city of humanoid animals, a hustling thea...</td>\n",
       "      <td>Christophe Lourdelet</td>\n",
       "      <td>Matthew McConaughey,Reese Witherspoon, Seth Ma...</td>\n",
       "      <td>2016</td>\n",
       "      <td>108</td>\n",
       "      <td>7.2</td>\n",
       "      <td>60545</td>\n",
       "      <td>270.32</td>\n",
       "      <td>59.0</td>\n",
       "    </tr>\n",
       "    <tr>\n",
       "      <th>4</th>\n",
       "      <td>5</td>\n",
       "      <td>Suicide Squad</td>\n",
       "      <td>Action,Adventure,Fantasy</td>\n",
       "      <td>A secret government agency recruits some of th...</td>\n",
       "      <td>David Ayer</td>\n",
       "      <td>Will Smith, Jared Leto, Margot Robbie, Viola D...</td>\n",
       "      <td>2016</td>\n",
       "      <td>123</td>\n",
       "      <td>6.2</td>\n",
       "      <td>393727</td>\n",
       "      <td>325.02</td>\n",
       "      <td>40.0</td>\n",
       "    </tr>\n",
       "  </tbody>\n",
       "</table>\n",
       "</div>"
      ],
      "text/plain": [
       "   Rank                    Title                     Genre  \\\n",
       "0     1  Guardians of the Galaxy   Action,Adventure,Sci-Fi   \n",
       "1     2               Prometheus  Adventure,Mystery,Sci-Fi   \n",
       "2     3                    Split           Horror,Thriller   \n",
       "3     4                     Sing   Animation,Comedy,Family   \n",
       "4     5            Suicide Squad  Action,Adventure,Fantasy   \n",
       "\n",
       "                                         Description              Director  \\\n",
       "0  A group of intergalactic criminals are forced ...            James Gunn   \n",
       "1  Following clues to the origin of mankind, a te...          Ridley Scott   \n",
       "2  Three girls are kidnapped by a man with a diag...    M. Night Shyamalan   \n",
       "3  In a city of humanoid animals, a hustling thea...  Christophe Lourdelet   \n",
       "4  A secret government agency recruits some of th...            David Ayer   \n",
       "\n",
       "                                              Actors  Year  Runtime (Minutes)  \\\n",
       "0  Chris Pratt, Vin Diesel, Bradley Cooper, Zoe S...  2014                121   \n",
       "1  Noomi Rapace, Logan Marshall-Green, Michael Fa...  2012                124   \n",
       "2  James McAvoy, Anya Taylor-Joy, Haley Lu Richar...  2016                117   \n",
       "3  Matthew McConaughey,Reese Witherspoon, Seth Ma...  2016                108   \n",
       "4  Will Smith, Jared Leto, Margot Robbie, Viola D...  2016                123   \n",
       "\n",
       "   Rating   Votes  Revenue (Millions)  Metascore  \n",
       "0     8.1  757074              333.13       76.0  \n",
       "1     7.0  485820              126.46       65.0  \n",
       "2     7.3  157606              138.12       62.0  \n",
       "3     7.2   60545              270.32       59.0  \n",
       "4     6.2  393727              325.02       40.0  "
      ]
     },
     "execution_count": 41,
     "metadata": {},
     "output_type": "execute_result"
    }
   ],
   "source": [
    "data = pd.read_csv(filepath_or_buffer = 'https://raw.githubusercontent.com/insaid2018/Term-1/master/Data/Projects/1000%20movies%20data.csv')\n",
    "print('Data Shape:', data.shape)\n",
    "data.head()"
   ]
  },
  {
   "cell_type": "markdown",
   "metadata": {
    "colab_type": "text",
    "id": "FfkdFrL_qMPn"
   },
   "source": [
    "### **Data Description**\n",
    "\n",
    "- To get some quick description out of the data you can use describe method defined in pandas library."
   ]
  },
  {
   "cell_type": "code",
   "execution_count": 17,
   "metadata": {
    "colab": {},
    "colab_type": "code",
    "id": "cLs4jsSuqJjC",
    "scrolled": true
   },
   "outputs": [
    {
     "data": {
      "text/html": [
       "<div>\n",
       "<style scoped>\n",
       "    .dataframe tbody tr th:only-of-type {\n",
       "        vertical-align: middle;\n",
       "    }\n",
       "\n",
       "    .dataframe tbody tr th {\n",
       "        vertical-align: top;\n",
       "    }\n",
       "\n",
       "    .dataframe thead th {\n",
       "        text-align: right;\n",
       "    }\n",
       "</style>\n",
       "<table border=\"1\" class=\"dataframe\">\n",
       "  <thead>\n",
       "    <tr style=\"text-align: right;\">\n",
       "      <th></th>\n",
       "      <th>count</th>\n",
       "      <th>mean</th>\n",
       "      <th>std</th>\n",
       "      <th>min</th>\n",
       "      <th>25%</th>\n",
       "      <th>50%</th>\n",
       "      <th>75%</th>\n",
       "      <th>max</th>\n",
       "    </tr>\n",
       "  </thead>\n",
       "  <tbody>\n",
       "    <tr>\n",
       "      <th>Rank</th>\n",
       "      <td>1000.0</td>\n",
       "      <td>500.500000</td>\n",
       "      <td>288.819436</td>\n",
       "      <td>1.0</td>\n",
       "      <td>250.75</td>\n",
       "      <td>500.500</td>\n",
       "      <td>750.250</td>\n",
       "      <td>1000.00</td>\n",
       "    </tr>\n",
       "    <tr>\n",
       "      <th>Year</th>\n",
       "      <td>1000.0</td>\n",
       "      <td>2012.783000</td>\n",
       "      <td>3.205962</td>\n",
       "      <td>2006.0</td>\n",
       "      <td>2010.00</td>\n",
       "      <td>2014.000</td>\n",
       "      <td>2016.000</td>\n",
       "      <td>2016.00</td>\n",
       "    </tr>\n",
       "    <tr>\n",
       "      <th>Runtime (Minutes)</th>\n",
       "      <td>1000.0</td>\n",
       "      <td>113.172000</td>\n",
       "      <td>18.810908</td>\n",
       "      <td>66.0</td>\n",
       "      <td>100.00</td>\n",
       "      <td>111.000</td>\n",
       "      <td>123.000</td>\n",
       "      <td>191.00</td>\n",
       "    </tr>\n",
       "    <tr>\n",
       "      <th>Rating</th>\n",
       "      <td>1000.0</td>\n",
       "      <td>6.723200</td>\n",
       "      <td>0.945429</td>\n",
       "      <td>1.9</td>\n",
       "      <td>6.20</td>\n",
       "      <td>6.800</td>\n",
       "      <td>7.400</td>\n",
       "      <td>9.00</td>\n",
       "    </tr>\n",
       "    <tr>\n",
       "      <th>Votes</th>\n",
       "      <td>1000.0</td>\n",
       "      <td>169808.255000</td>\n",
       "      <td>188762.647518</td>\n",
       "      <td>61.0</td>\n",
       "      <td>36309.00</td>\n",
       "      <td>110799.000</td>\n",
       "      <td>239909.750</td>\n",
       "      <td>1791916.00</td>\n",
       "    </tr>\n",
       "    <tr>\n",
       "      <th>Revenue (Millions)</th>\n",
       "      <td>872.0</td>\n",
       "      <td>82.956376</td>\n",
       "      <td>103.253540</td>\n",
       "      <td>0.0</td>\n",
       "      <td>13.27</td>\n",
       "      <td>47.985</td>\n",
       "      <td>113.715</td>\n",
       "      <td>936.63</td>\n",
       "    </tr>\n",
       "    <tr>\n",
       "      <th>Metascore</th>\n",
       "      <td>936.0</td>\n",
       "      <td>58.985043</td>\n",
       "      <td>17.194757</td>\n",
       "      <td>11.0</td>\n",
       "      <td>47.00</td>\n",
       "      <td>59.500</td>\n",
       "      <td>72.000</td>\n",
       "      <td>100.00</td>\n",
       "    </tr>\n",
       "  </tbody>\n",
       "</table>\n",
       "</div>"
      ],
      "text/plain": [
       "                     count           mean            std     min       25%  \\\n",
       "Rank                1000.0     500.500000     288.819436     1.0    250.75   \n",
       "Year                1000.0    2012.783000       3.205962  2006.0   2010.00   \n",
       "Runtime (Minutes)   1000.0     113.172000      18.810908    66.0    100.00   \n",
       "Rating              1000.0       6.723200       0.945429     1.9      6.20   \n",
       "Votes               1000.0  169808.255000  188762.647518    61.0  36309.00   \n",
       "Revenue (Millions)   872.0      82.956376     103.253540     0.0     13.27   \n",
       "Metascore            936.0      58.985043      17.194757    11.0     47.00   \n",
       "\n",
       "                           50%         75%         max  \n",
       "Rank                   500.500     750.250     1000.00  \n",
       "Year                  2014.000    2016.000     2016.00  \n",
       "Runtime (Minutes)      111.000     123.000      191.00  \n",
       "Rating                   6.800       7.400        9.00  \n",
       "Votes               110799.000  239909.750  1791916.00  \n",
       "Revenue (Millions)      47.985     113.715      936.63  \n",
       "Metascore               59.500      72.000      100.00  "
      ]
     },
     "execution_count": 17,
     "metadata": {},
     "output_type": "execute_result"
    }
   ],
   "source": [
    "data.describe().T"
   ]
  },
  {
   "cell_type": "markdown",
   "metadata": {},
   "source": [
    "From the describe method, we can see that columns 'Votes', 'Revenue (Millions)' have outliers. And we can also notice that there are some null values in columns 'Revenue (Millions)' and 'Metascore'.\n",
    "\n",
    "**How did we came to this conclusion about the outliers?**\n",
    "\n",
    "We can see that the mean/50% and 75% are closer to each other, whereas on the other hand the max has a very large difference from 75%."
   ]
  },
  {
   "cell_type": "markdown",
   "metadata": {
    "colab_type": "text",
    "id": "lM-hljKpqXsp"
   },
   "source": [
    "### **Data Information**"
   ]
  },
  {
   "cell_type": "code",
   "execution_count": 18,
   "metadata": {
    "colab": {},
    "colab_type": "code",
    "id": "aPYZy6voqXc4"
   },
   "outputs": [
    {
     "name": "stdout",
     "output_type": "stream",
     "text": [
      "<class 'pandas.core.frame.DataFrame'>\n",
      "RangeIndex: 1000 entries, 0 to 999\n",
      "Data columns (total 12 columns):\n",
      " #   Column              Non-Null Count  Dtype  \n",
      "---  ------              --------------  -----  \n",
      " 0   Rank                1000 non-null   int64  \n",
      " 1   Title               1000 non-null   object \n",
      " 2   Genre               1000 non-null   object \n",
      " 3   Description         1000 non-null   object \n",
      " 4   Director            1000 non-null   object \n",
      " 5   Actors              1000 non-null   object \n",
      " 6   Year                1000 non-null   int64  \n",
      " 7   Runtime (Minutes)   1000 non-null   int64  \n",
      " 8   Rating              1000 non-null   float64\n",
      " 9   Votes               1000 non-null   int64  \n",
      " 10  Revenue (Millions)  872 non-null    float64\n",
      " 11  Metascore           936 non-null    float64\n",
      "dtypes: float64(3), int64(4), object(5)\n",
      "memory usage: 93.9+ KB\n"
     ]
    }
   ],
   "source": [
    "data.info()"
   ]
  },
  {
   "cell_type": "code",
   "execution_count": 42,
   "metadata": {
    "scrolled": false
   },
   "outputs": [
    {
     "data": {
      "text/plain": [
       "<AxesSubplot:>"
      ]
     },
     "execution_count": 42,
     "metadata": {},
     "output_type": "execute_result"
    },
    {
     "data": {
      "image/png": "[encoded data removed]",
      "text/plain": [
       "<Figure size 432x288 with 2 Axes>"
      ]
     },
     "metadata": {
      "needs_background": "light"
     },
     "output_type": "display_data"
    }
   ],
   "source": [
    "sns.heatmap(data.corr(), annot=True)"
   ]
  },
  {
   "cell_type": "markdown",
   "metadata": {},
   "source": [
    "The features that are highly correlated with 'Metascore' are 'Rating', 'Votes', 'Runtime (Minutes)', and 'Revenue (Millions)'."
   ]
  },
  {
   "cell_type": "code",
   "execution_count": 9,
   "metadata": {
    "scrolled": true
   },
   "outputs": [
    {
     "data": {
      "text/plain": [
       "Ridley Scott          8\n",
       "Paul W.S. Anderson    6\n",
       "M. Night Shyamalan    6\n",
       "Michael Bay           6\n",
       "David Yates           6\n",
       "                     ..\n",
       "Hannes Holm           1\n",
       "Katie Holmes          1\n",
       "David Lowery          1\n",
       "Bruce Beresford       1\n",
       "Aisling Walsh         1\n",
       "Name: Director, Length: 644, dtype: int64"
      ]
     },
     "execution_count": 9,
     "metadata": {},
     "output_type": "execute_result"
    }
   ],
   "source": [
    "data.Director.value_counts()"
   ]
  },
  {
   "cell_type": "markdown",
   "metadata": {},
   "source": [
    "We can see that, we have 8 movies directed by Ridley Scott and we can say that the maximum number of movies directed by any director is 8 (in this dataset)."
   ]
  },
  {
   "cell_type": "code",
   "execution_count": 10,
   "metadata": {},
   "outputs": [
    {
     "data": {
      "text/plain": [
       "Action,Adventure,Sci-Fi     50\n",
       "Drama                       48\n",
       "Comedy,Drama,Romance        35\n",
       "Comedy                      32\n",
       "Drama,Romance               31\n",
       "                            ..\n",
       "Adventure,Comedy,Fantasy     1\n",
       "Comedy,Mystery               1\n",
       "Biography,Comedy,Crime       1\n",
       "Crime,Thriller               1\n",
       "Mystery,Thriller,Western     1\n",
       "Name: Genre, Length: 207, dtype: int64"
      ]
     },
     "execution_count": 10,
     "metadata": {},
     "output_type": "execute_result"
    }
   ],
   "source": [
    "data.Genre.value_counts()"
   ]
  },
  {
   "cell_type": "markdown",
   "metadata": {},
   "source": [
    "We have 50 movies on genre 'Action,Adventure,Sci-Fi'."
   ]
  },
  {
   "cell_type": "code",
   "execution_count": 11,
   "metadata": {},
   "outputs": [
    {
     "data": {
      "text/plain": [
       "Shia LaBeouf, Megan Fox, Josh Duhamel, Tyrese Gibson                   2\n",
       "Jennifer Lawrence, Josh Hutcherson, Liam Hemsworth, Woody Harrelson    2\n",
       "Daniel Radcliffe, Emma Watson, Rupert Grint, Michael Gambon            2\n",
       "Gerard Butler, Aaron Eckhart, Morgan Freeman,Angela Bassett            2\n",
       "John Cusack, Samuel L. Jackson, Mary McCormack, Paul Birchard          1\n",
       "                                                                      ..\n",
       "Emma Watson, Daniel Brühl, Michael Nyqvist,Richenda Carey              1\n",
       "Brian Cox, Emile Hirsch, Ophelia Lovibond, Michael McElhatton          1\n",
       "Sylvester Stallone, Jason Statham, Jet Li, Antonio Banderas            1\n",
       "Garrett Clayton, Christian Slater, Molly Ringwald,James Kelley         1\n",
       "Keegan-Michael Key, Gillian Jacobs, Mike Birbiglia,Chris Gethard       1\n",
       "Name: Actors, Length: 996, dtype: int64"
      ]
     },
     "execution_count": 11,
     "metadata": {},
     "output_type": "execute_result"
    }
   ],
   "source": [
    "data.Actors.value_counts()"
   ]
  },
  {
   "cell_type": "markdown",
   "metadata": {
    "colab_type": "text",
    "id": "efZ8svauqc55"
   },
   "source": [
    "---\n",
    "<a name = Section5></a>\n",
    "# **5. Data Pre-Profiling**\n",
    "---\n",
    "\n",
    "- This section is emphasised on getting a report about the data.\n",
    "\n",
    "- You need to perform pandas profiling and get some observations out of it..."
   ]
  },
  {
   "cell_type": "code",
   "execution_count": 3,
   "metadata": {
    "colab": {},
    "colab_type": "code",
    "id": "VEHxAq8Zqcgo"
   },
   "outputs": [],
   "source": [
    "prof = ProfileReport(data)\n",
    "prof.to_file(output_file='pre_profiling.html')"
   ]
  },
  {
   "cell_type": "markdown",
   "metadata": {},
   "source": [
    "After observing the pandas profiling, we have come to these conclusion:\n",
    "\n",
    "- After observing the histogram of column named 'Year', we can see that in the dataset we have majority of data of movies made in the year 2016.\n",
    "- Movies with runtime of 108 minutes has the highest frequency in our dataset.\n",
    "- Rating of 7.1 is the most frequent rating in our dataset.\n",
    "- We have 12.8% missing values (i.e., 128 NaNs) in column 'Revenue (Millions)'.\n",
    "- We have 6.4% missing values (i.e., 64 NaNs) in column 'Metascore'.\n",
    "- The most frequent Metascores are 68, 72, and 66.\n",
    "- The features that are highly correlated with 'Metascore' are 'Rating', 'Votes', 'Runtime (Minutes)', and 'Revenue (Millions)'."
   ]
  },
  {
   "cell_type": "markdown",
   "metadata": {
    "colab_type": "text",
    "id": "YMvtK0X-qoe6"
   },
   "source": [
    "---\n",
    "<a name = Section6></a>\n",
    "# **6. Data Pre-Processing**\n",
    "---\n",
    "\n",
    "- This section is emphasised on performing data manipulation over unstructured data for further processing and analysis.\n",
    "\n",
    "- To modify unstructured data to strucuted data you need to verify and manipulate the integrity of the data by:\n",
    "  - Handling missing data,\n",
    "\n",
    "  - Handling redundant data,\n",
    "\n",
    "  - Handling inconsistent data,\n",
    "\n",
    "  - Handling outliers,\n",
    "\n",
    "  - Handling typos"
   ]
  },
  {
   "cell_type": "markdown",
   "metadata": {},
   "source": [
    "#### Handling missing data"
   ]
  },
  {
   "cell_type": "code",
   "execution_count": 19,
   "metadata": {
    "colab": {},
    "colab_type": "code",
    "id": "FxzbSzWDqytZ",
    "scrolled": true
   },
   "outputs": [
    {
     "data": {
      "text/plain": [
       "Rank                    0\n",
       "Title                   0\n",
       "Genre                   0\n",
       "Description             0\n",
       "Director                0\n",
       "Actors                  0\n",
       "Year                    0\n",
       "Runtime (Minutes)       0\n",
       "Rating                  0\n",
       "Votes                   0\n",
       "Revenue (Millions)    128\n",
       "Metascore              64\n",
       "dtype: int64"
      ]
     },
     "execution_count": 19,
     "metadata": {},
     "output_type": "execute_result"
    }
   ],
   "source": [
    "data.isna().sum()"
   ]
  },
  {
   "cell_type": "code",
   "execution_count": 26,
   "metadata": {},
   "outputs": [
    {
     "name": "stdout",
     "output_type": "stream",
     "text": [
      "Median: 47.985\n",
      "Mean: 78.48004\n"
     ]
    }
   ],
   "source": [
    "print(\"Median:\", data['Revenue (Millions)'].median())\n",
    "print(\"Mean:\", data['Revenue (Millions)'].mean())"
   ]
  },
  {
   "cell_type": "code",
   "execution_count": 4,
   "metadata": {},
   "outputs": [
    {
     "data": {
      "text/plain": [
       "0"
      ]
     },
     "execution_count": 4,
     "metadata": {},
     "output_type": "execute_result"
    }
   ],
   "source": [
    "data['Revenue (Millions)'].fillna(data['Revenue (Millions)'].median(), inplace=True)\n",
    "data['Revenue (Millions)'].isna().sum()"
   ]
  },
  {
   "cell_type": "code",
   "execution_count": 27,
   "metadata": {},
   "outputs": [
    {
     "name": "stdout",
     "output_type": "stream",
     "text": [
      "Median: 59.5\n",
      "Mean: 58.98504273504273\n"
     ]
    }
   ],
   "source": [
    "print(\"Median:\", data['Metascore'].median())\n",
    "print(\"Mean:\", data['Metascore'].mean())"
   ]
  },
  {
   "cell_type": "code",
   "execution_count": 5,
   "metadata": {
    "scrolled": true
   },
   "outputs": [
    {
     "data": {
      "text/plain": [
       "0"
      ]
     },
     "execution_count": 5,
     "metadata": {},
     "output_type": "execute_result"
    }
   ],
   "source": [
    "data['Metascore'].fillna(data['Metascore'].median(), inplace=True)\n",
    "data['Metascore'].isna().sum()"
   ]
  },
  {
   "cell_type": "code",
   "execution_count": 55,
   "metadata": {},
   "outputs": [
    {
     "data": {
      "text/plain": [
       "Rank                  0\n",
       "Title                 0\n",
       "Genre                 0\n",
       "Description           0\n",
       "Director              0\n",
       "Actors                0\n",
       "Year                  0\n",
       "Runtime (Minutes)     0\n",
       "Rating                0\n",
       "Votes                 0\n",
       "Revenue (Millions)    0\n",
       "Metascore             0\n",
       "dtype: int64"
      ]
     },
     "execution_count": 55,
     "metadata": {},
     "output_type": "execute_result"
    }
   ],
   "source": [
    "data.isna().sum()"
   ]
  },
  {
   "cell_type": "markdown",
   "metadata": {},
   "source": [
    "#### Handling redundant data"
   ]
  },
  {
   "cell_type": "markdown",
   "metadata": {},
   "source": [
    "Data redundancy means that the data can have duplicate values and for treating that, we will use drop_duplicates method."
   ]
  },
  {
   "cell_type": "code",
   "execution_count": 6,
   "metadata": {},
   "outputs": [
    {
     "data": {
      "text/plain": [
       "(1000, 12)"
      ]
     },
     "execution_count": 6,
     "metadata": {},
     "output_type": "execute_result"
    }
   ],
   "source": [
    "data.drop_duplicates(inplace=True)\n",
    "data.shape"
   ]
  },
  {
   "cell_type": "markdown",
   "metadata": {},
   "source": [
    "#### Handling inconsistent data"
   ]
  },
  {
   "cell_type": "markdown",
   "metadata": {},
   "source": [
    "When the same data exists in different formats in multiple tables. This condition is known as Data Inconsistency. It means that different files contain different information about a particular object or person. This can cause unreliable and meaningless information.\n",
    "\n",
    "But, since there are no multiple tables in our dataset, data inconsistency is not possible."
   ]
  },
  {
   "cell_type": "markdown",
   "metadata": {},
   "source": [
    "#### Handling outliers"
   ]
  },
  {
   "cell_type": "code",
   "execution_count": 35,
   "metadata": {
    "scrolled": true
   },
   "outputs": [
    {
     "data": {
      "image/png": "[encoded data removed]",
      "text/plain": [
       "<Figure size 432x288 with 1 Axes>"
      ]
     },
     "metadata": {
      "needs_background": "light"
     },
     "output_type": "display_data"
    }
   ],
   "source": [
    "data.boxplot()\n",
    "plt.xticks(rotation='vertical')\n",
    "plt.show()"
   ]
  },
  {
   "cell_type": "code",
   "execution_count": 42,
   "metadata": {
    "scrolled": true
   },
   "outputs": [
    {
     "data": {
      "image/png": "[encoded data removed]",
      "text/plain": [
       "<Figure size 432x288 with 1 Axes>"
      ]
     },
     "metadata": {
      "needs_background": "light"
     },
     "output_type": "display_data"
    }
   ],
   "source": [
    "sns.boxplot(x=data['Votes'])\n",
    "plt.show()"
   ]
  },
  {
   "cell_type": "code",
   "execution_count": 43,
   "metadata": {
    "scrolled": true
   },
   "outputs": [
    {
     "data": {
      "image/png": "[encoded data removed]",
      "text/plain": [
       "<Figure size 432x288 with 1 Axes>"
      ]
     },
     "metadata": {
      "needs_background": "light"
     },
     "output_type": "display_data"
    }
   ],
   "source": [
    "sns.boxplot(x=data['Revenue (Millions)'])\n",
    "plt.show()"
   ]
  },
  {
   "cell_type": "markdown",
   "metadata": {},
   "source": [
    "Since, the number of outliers are not much. We will drop/remove the outliers."
   ]
  },
  {
   "cell_type": "code",
   "execution_count": 7,
   "metadata": {},
   "outputs": [
    {
     "data": {
      "text/plain": [
       "(982, 12)"
      ]
     },
     "execution_count": 7,
     "metadata": {},
     "output_type": "execute_result"
    }
   ],
   "source": [
    "from scipy import stats\n",
    "data = data[(np.abs(stats.zscore(data['Revenue (Millions)'])) < 3)]\n",
    "data.shape"
   ]
  },
  {
   "cell_type": "code",
   "execution_count": 8,
   "metadata": {},
   "outputs": [
    {
     "data": {
      "text/plain": [
       "(969, 12)"
      ]
     },
     "execution_count": 8,
     "metadata": {},
     "output_type": "execute_result"
    }
   ],
   "source": [
    "data = data[(np.abs(stats.zscore(data['Votes'])) < 3)]\n",
    "data.shape"
   ]
  },
  {
   "cell_type": "markdown",
   "metadata": {
    "colab_type": "text",
    "id": "amsQwri2q1_J"
   },
   "source": [
    "---\n",
    "<a name = Section7></a>\n",
    "# **7. Data Post-Profiling**\n",
    "---\n",
    "\n",
    "- This section is emphasised on getting a report about the data after the data manipulation.\n",
    "\n",
    "- You may end up observing some new changes, so keep it under check and make right observations."
   ]
  },
  {
   "cell_type": "code",
   "execution_count": 9,
   "metadata": {
    "colab": {},
    "colab_type": "code",
    "id": "87U7K8sWq1y5"
   },
   "outputs": [],
   "source": [
    "prof = ProfileReport(data)\n",
    "prof.to_file(output_file='post_profiling.html')"
   ]
  },
  {
   "cell_type": "code",
   "execution_count": 12,
   "metadata": {
    "scrolled": true
   },
   "outputs": [
    {
     "data": {
      "text/html": [
       "<div>\n",
       "<style scoped>\n",
       "    .dataframe tbody tr th:only-of-type {\n",
       "        vertical-align: middle;\n",
       "    }\n",
       "\n",
       "    .dataframe tbody tr th {\n",
       "        vertical-align: top;\n",
       "    }\n",
       "\n",
       "    .dataframe thead th {\n",
       "        text-align: right;\n",
       "    }\n",
       "</style>\n",
       "<table border=\"1\" class=\"dataframe\">\n",
       "  <thead>\n",
       "    <tr style=\"text-align: right;\">\n",
       "      <th></th>\n",
       "      <th>Rank</th>\n",
       "      <th>Year</th>\n",
       "      <th>Runtime (Minutes)</th>\n",
       "      <th>Rating</th>\n",
       "      <th>Votes</th>\n",
       "      <th>Revenue (Millions)</th>\n",
       "      <th>Metascore</th>\n",
       "    </tr>\n",
       "  </thead>\n",
       "  <tbody>\n",
       "    <tr>\n",
       "      <th>count</th>\n",
       "      <td>969.000000</td>\n",
       "      <td>969.000000</td>\n",
       "      <td>969.000000</td>\n",
       "      <td>969.000000</td>\n",
       "      <td>969.000000</td>\n",
       "      <td>969.000000</td>\n",
       "      <td>969.000000</td>\n",
       "    </tr>\n",
       "    <tr>\n",
       "      <th>mean</th>\n",
       "      <td>510.361197</td>\n",
       "      <td>2012.832817</td>\n",
       "      <td>112.408669</td>\n",
       "      <td>6.684004</td>\n",
       "      <td>150718.491228</td>\n",
       "      <td>69.012714</td>\n",
       "      <td>58.576367</td>\n",
       "    </tr>\n",
       "    <tr>\n",
       "      <th>std</th>\n",
       "      <td>285.679040</td>\n",
       "      <td>3.198159</td>\n",
       "      <td>18.200790</td>\n",
       "      <td>0.927987</td>\n",
       "      <td>145714.922655</td>\n",
       "      <td>74.701529</td>\n",
       "      <td>16.582808</td>\n",
       "    </tr>\n",
       "    <tr>\n",
       "      <th>min</th>\n",
       "      <td>2.000000</td>\n",
       "      <td>2006.000000</td>\n",
       "      <td>66.000000</td>\n",
       "      <td>1.900000</td>\n",
       "      <td>61.000000</td>\n",
       "      <td>0.000000</td>\n",
       "      <td>11.000000</td>\n",
       "    </tr>\n",
       "    <tr>\n",
       "      <th>25%</th>\n",
       "      <td>267.000000</td>\n",
       "      <td>2010.000000</td>\n",
       "      <td>99.000000</td>\n",
       "      <td>6.200000</td>\n",
       "      <td>34546.000000</td>\n",
       "      <td>16.170000</td>\n",
       "      <td>47.000000</td>\n",
       "    </tr>\n",
       "    <tr>\n",
       "      <th>50%</th>\n",
       "      <td>512.000000</td>\n",
       "      <td>2014.000000</td>\n",
       "      <td>110.000000</td>\n",
       "      <td>6.700000</td>\n",
       "      <td>105081.000000</td>\n",
       "      <td>47.985000</td>\n",
       "      <td>59.500000</td>\n",
       "    </tr>\n",
       "    <tr>\n",
       "      <th>75%</th>\n",
       "      <td>758.000000</td>\n",
       "      <td>2016.000000</td>\n",
       "      <td>123.000000</td>\n",
       "      <td>7.300000</td>\n",
       "      <td>221073.000000</td>\n",
       "      <td>89.210000</td>\n",
       "      <td>71.000000</td>\n",
       "    </tr>\n",
       "    <tr>\n",
       "      <th>max</th>\n",
       "      <td>1000.000000</td>\n",
       "      <td>2016.000000</td>\n",
       "      <td>191.000000</td>\n",
       "      <td>8.800000</td>\n",
       "      <td>668651.000000</td>\n",
       "      <td>368.310000</td>\n",
       "      <td>100.000000</td>\n",
       "    </tr>\n",
       "  </tbody>\n",
       "</table>\n",
       "</div>"
      ],
      "text/plain": [
       "              Rank         Year  Runtime (Minutes)      Rating          Votes  \\\n",
       "count   969.000000   969.000000         969.000000  969.000000     969.000000   \n",
       "mean    510.361197  2012.832817         112.408669    6.684004  150718.491228   \n",
       "std     285.679040     3.198159          18.200790    0.927987  145714.922655   \n",
       "min       2.000000  2006.000000          66.000000    1.900000      61.000000   \n",
       "25%     267.000000  2010.000000          99.000000    6.200000   34546.000000   \n",
       "50%     512.000000  2014.000000         110.000000    6.700000  105081.000000   \n",
       "75%     758.000000  2016.000000         123.000000    7.300000  221073.000000   \n",
       "max    1000.000000  2016.000000         191.000000    8.800000  668651.000000   \n",
       "\n",
       "       Revenue (Millions)   Metascore  \n",
       "count          969.000000  969.000000  \n",
       "mean            69.012714   58.576367  \n",
       "std             74.701529   16.582808  \n",
       "min              0.000000   11.000000  \n",
       "25%             16.170000   47.000000  \n",
       "50%             47.985000   59.500000  \n",
       "75%             89.210000   71.000000  \n",
       "max            368.310000  100.000000  "
      ]
     },
     "execution_count": 12,
     "metadata": {},
     "output_type": "execute_result"
    }
   ],
   "source": [
    "data.describe()"
   ]
  },
  {
   "cell_type": "code",
   "execution_count": 17,
   "metadata": {},
   "outputs": [
    {
     "data": {
      "text/plain": [
       "<AxesSubplot:>"
      ]
     },
     "execution_count": 17,
     "metadata": {},
     "output_type": "execute_result"
    },
    {
     "data": {
      "image/png": "[encoded data removed]",
      "text/plain": [
       "<Figure size 432x288 with 2 Axes>"
      ]
     },
     "metadata": {
      "needs_background": "light"
     },
     "output_type": "display_data"
    }
   ],
   "source": [
    "sns.heatmap(data.corr(), annot=True)"
   ]
  },
  {
   "cell_type": "code",
   "execution_count": 11,
   "metadata": {},
   "outputs": [
    {
     "data": {
      "text/html": [
       "<div>\n",
       "<style scoped>\n",
       "    .dataframe tbody tr th:only-of-type {\n",
       "        vertical-align: middle;\n",
       "    }\n",
       "\n",
       "    .dataframe tbody tr th {\n",
       "        vertical-align: top;\n",
       "    }\n",
       "\n",
       "    .dataframe thead th {\n",
       "        text-align: right;\n",
       "    }\n",
       "</style>\n",
       "<table border=\"1\" class=\"dataframe\">\n",
       "  <thead>\n",
       "    <tr style=\"text-align: right;\">\n",
       "      <th></th>\n",
       "      <th>Rank</th>\n",
       "      <th>Year</th>\n",
       "      <th>Runtime (Minutes)</th>\n",
       "      <th>Rating</th>\n",
       "      <th>Votes</th>\n",
       "      <th>Revenue (Millions)</th>\n",
       "      <th>Metascore</th>\n",
       "    </tr>\n",
       "  </thead>\n",
       "  <tbody>\n",
       "    <tr>\n",
       "      <th>Rank</th>\n",
       "      <td>1.000000</td>\n",
       "      <td>-0.284886</td>\n",
       "      <td>-0.181174</td>\n",
       "      <td>-0.182179</td>\n",
       "      <td>-0.223036</td>\n",
       "      <td>-0.203680</td>\n",
       "      <td>-0.161973</td>\n",
       "    </tr>\n",
       "    <tr>\n",
       "      <th>Year</th>\n",
       "      <td>-0.284886</td>\n",
       "      <td>1.000000</td>\n",
       "      <td>-0.154700</td>\n",
       "      <td>-0.196594</td>\n",
       "      <td>-0.457437</td>\n",
       "      <td>-0.167706</td>\n",
       "      <td>-0.065462</td>\n",
       "    </tr>\n",
       "    <tr>\n",
       "      <th>Runtime (Minutes)</th>\n",
       "      <td>-0.181174</td>\n",
       "      <td>-0.154700</td>\n",
       "      <td>1.000000</td>\n",
       "      <td>0.365662</td>\n",
       "      <td>0.343811</td>\n",
       "      <td>0.213611</td>\n",
       "      <td>0.183125</td>\n",
       "    </tr>\n",
       "    <tr>\n",
       "      <th>Rating</th>\n",
       "      <td>-0.182179</td>\n",
       "      <td>-0.196594</td>\n",
       "      <td>0.365662</td>\n",
       "      <td>1.000000</td>\n",
       "      <td>0.482358</td>\n",
       "      <td>0.143015</td>\n",
       "      <td>0.592013</td>\n",
       "    </tr>\n",
       "    <tr>\n",
       "      <th>Votes</th>\n",
       "      <td>-0.223036</td>\n",
       "      <td>-0.457437</td>\n",
       "      <td>0.343811</td>\n",
       "      <td>0.482358</td>\n",
       "      <td>1.000000</td>\n",
       "      <td>0.610191</td>\n",
       "      <td>0.298197</td>\n",
       "    </tr>\n",
       "    <tr>\n",
       "      <th>Revenue (Millions)</th>\n",
       "      <td>-0.203680</td>\n",
       "      <td>-0.167706</td>\n",
       "      <td>0.213611</td>\n",
       "      <td>0.143015</td>\n",
       "      <td>0.610191</td>\n",
       "      <td>1.000000</td>\n",
       "      <td>0.081245</td>\n",
       "    </tr>\n",
       "    <tr>\n",
       "      <th>Metascore</th>\n",
       "      <td>-0.161973</td>\n",
       "      <td>-0.065462</td>\n",
       "      <td>0.183125</td>\n",
       "      <td>0.592013</td>\n",
       "      <td>0.298197</td>\n",
       "      <td>0.081245</td>\n",
       "      <td>1.000000</td>\n",
       "    </tr>\n",
       "  </tbody>\n",
       "</table>\n",
       "</div>"
      ],
      "text/plain": [
       "                        Rank      Year  Runtime (Minutes)    Rating     Votes  \\\n",
       "Rank                1.000000 -0.284886          -0.181174 -0.182179 -0.223036   \n",
       "Year               -0.284886  1.000000          -0.154700 -0.196594 -0.457437   \n",
       "Runtime (Minutes)  -0.181174 -0.154700           1.000000  0.365662  0.343811   \n",
       "Rating             -0.182179 -0.196594           0.365662  1.000000  0.482358   \n",
       "Votes              -0.223036 -0.457437           0.343811  0.482358  1.000000   \n",
       "Revenue (Millions) -0.203680 -0.167706           0.213611  0.143015  0.610191   \n",
       "Metascore          -0.161973 -0.065462           0.183125  0.592013  0.298197   \n",
       "\n",
       "                    Revenue (Millions)  Metascore  \n",
       "Rank                         -0.203680  -0.161973  \n",
       "Year                         -0.167706  -0.065462  \n",
       "Runtime (Minutes)             0.213611   0.183125  \n",
       "Rating                        0.143015   0.592013  \n",
       "Votes                         0.610191   0.298197  \n",
       "Revenue (Millions)            1.000000   0.081245  \n",
       "Metascore                     0.081245   1.000000  "
      ]
     },
     "execution_count": 11,
     "metadata": {},
     "output_type": "execute_result"
    }
   ],
   "source": [
    "data.corr()"
   ]
  },
  {
   "cell_type": "markdown",
   "metadata": {},
   "source": [
    "After manipulation: \n",
    "- the most frequent Metascore has been changed to 59.5\n",
    "- the correlation of some column/features as been changed."
   ]
  },
  {
   "cell_type": "markdown",
   "metadata": {
    "colab_type": "text",
    "id": "taDvvLa9q-5p"
   },
   "source": [
    "---\n",
    "<a name = Section8></a>\n",
    "# **8. Exploratory Data Analysis**\n",
    "---\n",
    "\n",
    "- This section is emphasised on asking the right questions and perform analysis using the data.\n",
    "\n",
    "- Note that there is no limit how deep you can go, but make sure not to get distracted from right track."
   ]
  },
  {
   "cell_type": "code",
   "execution_count": 18,
   "metadata": {
    "scrolled": true
   },
   "outputs": [
    {
     "data": {
      "text/plain": [
       "Index(['Rank', 'Title', 'Genre', 'Description', 'Director', 'Actors', 'Year',\n",
       "       'Runtime (Minutes)', 'Rating', 'Votes', 'Revenue (Millions)',\n",
       "       'Metascore'],\n",
       "      dtype='object')"
      ]
     },
     "execution_count": 18,
     "metadata": {},
     "output_type": "execute_result"
    }
   ],
   "source": [
    "data.columns"
   ]
  },
  {
   "cell_type": "code",
   "execution_count": 19,
   "metadata": {
    "scrolled": true
   },
   "outputs": [
    {
     "name": "stdout",
     "output_type": "stream",
     "text": [
      "<class 'pandas.core.frame.DataFrame'>\n",
      "Int64Index: 969 entries, 1 to 999\n",
      "Data columns (total 12 columns):\n",
      " #   Column              Non-Null Count  Dtype  \n",
      "---  ------              --------------  -----  \n",
      " 0   Rank                969 non-null    int64  \n",
      " 1   Title               969 non-null    object \n",
      " 2   Genre               969 non-null    object \n",
      " 3   Description         969 non-null    object \n",
      " 4   Director            969 non-null    object \n",
      " 5   Actors              969 non-null    object \n",
      " 6   Year                969 non-null    int64  \n",
      " 7   Runtime (Minutes)   969 non-null    int64  \n",
      " 8   Rating              969 non-null    float64\n",
      " 9   Votes               969 non-null    int64  \n",
      " 10  Revenue (Millions)  969 non-null    float64\n",
      " 11  Metascore           969 non-null    float64\n",
      "dtypes: float64(3), int64(4), object(5)\n",
      "memory usage: 98.4+ KB\n"
     ]
    }
   ],
   "source": [
    "data.info()"
   ]
  },
  {
   "cell_type": "markdown",
   "metadata": {},
   "source": [
    "#### What are the top 10 most revenue making directors?"
   ]
  },
  {
   "cell_type": "code",
   "execution_count": 39,
   "metadata": {
    "scrolled": true
   },
   "outputs": [
    {
     "data": {
      "text/html": [
       "<div>\n",
       "<style scoped>\n",
       "    .dataframe tbody tr th:only-of-type {\n",
       "        vertical-align: middle;\n",
       "    }\n",
       "\n",
       "    .dataframe tbody tr th {\n",
       "        vertical-align: top;\n",
       "    }\n",
       "\n",
       "    .dataframe thead th {\n",
       "        text-align: right;\n",
       "    }\n",
       "</style>\n",
       "<table border=\"1\" class=\"dataframe\">\n",
       "  <thead>\n",
       "    <tr style=\"text-align: right;\">\n",
       "      <th></th>\n",
       "      <th>Rank</th>\n",
       "      <th>Year</th>\n",
       "      <th>Runtime (Minutes)</th>\n",
       "      <th>Rating</th>\n",
       "      <th>Votes</th>\n",
       "      <th>Revenue (Millions)</th>\n",
       "      <th>Metascore</th>\n",
       "    </tr>\n",
       "    <tr>\n",
       "      <th>Director</th>\n",
       "      <th></th>\n",
       "      <th></th>\n",
       "      <th></th>\n",
       "      <th></th>\n",
       "      <th></th>\n",
       "      <th></th>\n",
       "      <th></th>\n",
       "    </tr>\n",
       "  </thead>\n",
       "  <tbody>\n",
       "    <tr>\n",
       "      <th>David Yates</th>\n",
       "      <td>1327</td>\n",
       "      <td>10058</td>\n",
       "      <td>680</td>\n",
       "      <td>36.5</td>\n",
       "      <td>1443259</td>\n",
       "      <td>1249.55</td>\n",
       "      <td>324.0</td>\n",
       "    </tr>\n",
       "    <tr>\n",
       "      <th>Michael Bay</th>\n",
       "      <td>1745</td>\n",
       "      <td>10061</td>\n",
       "      <td>736</td>\n",
       "      <td>32.9</td>\n",
       "      <td>1370774</td>\n",
       "      <td>1019.24</td>\n",
       "      <td>228.0</td>\n",
       "    </tr>\n",
       "    <tr>\n",
       "      <th>Zack Snyder</th>\n",
       "      <td>904</td>\n",
       "      <td>10055</td>\n",
       "      <td>683</td>\n",
       "      <td>35.2</td>\n",
       "      <td>2301544</td>\n",
       "      <td>975.74</td>\n",
       "      <td>240.0</td>\n",
       "    </tr>\n",
       "    <tr>\n",
       "      <th>Francis Lawrence</th>\n",
       "      <td>1586</td>\n",
       "      <td>6036</td>\n",
       "      <td>361</td>\n",
       "      <td>20.5</td>\n",
       "      <td>1100003</td>\n",
       "      <td>875.16</td>\n",
       "      <td>194.0</td>\n",
       "    </tr>\n",
       "    <tr>\n",
       "      <th>Peter Jackson</th>\n",
       "      <td>1718</td>\n",
       "      <td>8048</td>\n",
       "      <td>609</td>\n",
       "      <td>29.9</td>\n",
       "      <td>1698695</td>\n",
       "      <td>860.45</td>\n",
       "      <td>225.0</td>\n",
       "    </tr>\n",
       "    <tr>\n",
       "      <th>Justin Lin</th>\n",
       "      <td>1154</td>\n",
       "      <td>10055</td>\n",
       "      <td>594</td>\n",
       "      <td>34.1</td>\n",
       "      <td>1194364</td>\n",
       "      <td>824.79</td>\n",
       "      <td>286.0</td>\n",
       "    </tr>\n",
       "    <tr>\n",
       "      <th>J.J. Abrams</th>\n",
       "      <td>1872</td>\n",
       "      <td>8039</td>\n",
       "      <td>497</td>\n",
       "      <td>29.8</td>\n",
       "      <td>1513329</td>\n",
       "      <td>746.82</td>\n",
       "      <td>292.0</td>\n",
       "    </tr>\n",
       "    <tr>\n",
       "      <th>Ridley Scott</th>\n",
       "      <td>3272</td>\n",
       "      <td>16085</td>\n",
       "      <td>1077</td>\n",
       "      <td>54.8</td>\n",
       "      <td>2080074</td>\n",
       "      <td>719.06</td>\n",
       "      <td>478.0</td>\n",
       "    </tr>\n",
       "    <tr>\n",
       "      <th>Jon Favreau</th>\n",
       "      <td>1339</td>\n",
       "      <td>6040</td>\n",
       "      <td>344</td>\n",
       "      <td>21.8</td>\n",
       "      <td>906879</td>\n",
       "      <td>707.30</td>\n",
       "      <td>202.0</td>\n",
       "    </tr>\n",
       "    <tr>\n",
       "      <th>Clint Eastwood</th>\n",
       "      <td>1898</td>\n",
       "      <td>8046</td>\n",
       "      <td>486</td>\n",
       "      <td>30.8</td>\n",
       "      <td>1293485</td>\n",
       "      <td>658.99</td>\n",
       "      <td>268.5</td>\n",
       "    </tr>\n",
       "  </tbody>\n",
       "</table>\n",
       "</div>"
      ],
      "text/plain": [
       "                  Rank   Year  Runtime (Minutes)  Rating    Votes  \\\n",
       "Director                                                            \n",
       "David Yates       1327  10058                680    36.5  1443259   \n",
       "Michael Bay       1745  10061                736    32.9  1370774   \n",
       "Zack Snyder        904  10055                683    35.2  2301544   \n",
       "Francis Lawrence  1586   6036                361    20.5  1100003   \n",
       "Peter Jackson     1718   8048                609    29.9  1698695   \n",
       "Justin Lin        1154  10055                594    34.1  1194364   \n",
       "J.J. Abrams       1872   8039                497    29.8  1513329   \n",
       "Ridley Scott      3272  16085               1077    54.8  2080074   \n",
       "Jon Favreau       1339   6040                344    21.8   906879   \n",
       "Clint Eastwood    1898   8046                486    30.8  1293485   \n",
       "\n",
       "                  Revenue (Millions)  Metascore  \n",
       "Director                                         \n",
       "David Yates                  1249.55      324.0  \n",
       "Michael Bay                  1019.24      228.0  \n",
       "Zack Snyder                   975.74      240.0  \n",
       "Francis Lawrence              875.16      194.0  \n",
       "Peter Jackson                 860.45      225.0  \n",
       "Justin Lin                    824.79      286.0  \n",
       "J.J. Abrams                   746.82      292.0  \n",
       "Ridley Scott                  719.06      478.0  \n",
       "Jon Favreau                   707.30      202.0  \n",
       "Clint Eastwood                658.99      268.5  "
      ]
     },
     "execution_count": 39,
     "metadata": {},
     "output_type": "execute_result"
    }
   ],
   "source": [
    "data.groupby(['Director']).sum().sort_values(by=['Revenue (Millions)'], ascending=False).head(10)"
   ]
  },
  {
   "cell_type": "code",
   "execution_count": 20,
   "metadata": {
    "scrolled": false
   },
   "outputs": [
    {
     "name": "stderr",
     "output_type": "stream",
     "text": [
      "c:\\softwares\\python3.8.1\\lib\\site-packages\\seaborn\\distributions.py:2619: FutureWarning: `distplot` is a deprecated function and will be removed in a future version. Please adapt your code to use either `displot` (a figure-level function with similar flexibility) or `histplot` (an axes-level function for histograms).\n",
      "  warnings.warn(msg, FutureWarning)\n"
     ]
    },
    {
     "data": {
      "image/png": "[encoded data removed]",
      "text/plain": [
       "<Figure size 432x288 with 1 Axes>"
      ]
     },
     "metadata": {
      "needs_background": "light"
     },
     "output_type": "display_data"
    },
    {
     "name": "stderr",
     "output_type": "stream",
     "text": [
      "c:\\softwares\\python3.8.1\\lib\\site-packages\\seaborn\\distributions.py:2619: FutureWarning: `distplot` is a deprecated function and will be removed in a future version. Please adapt your code to use either `displot` (a figure-level function with similar flexibility) or `histplot` (an axes-level function for histograms).\n",
      "  warnings.warn(msg, FutureWarning)\n"
     ]
    },
    {
     "data": {
      "image/png": "[encoded data removed]",
      "text/plain": [
       "<Figure size 432x288 with 1 Axes>"
      ]
     },
     "metadata": {
      "needs_background": "light"
     },
     "output_type": "display_data"
    },
    {
     "name": "stderr",
     "output_type": "stream",
     "text": [
      "c:\\softwares\\python3.8.1\\lib\\site-packages\\seaborn\\distributions.py:2619: FutureWarning: `distplot` is a deprecated function and will be removed in a future version. Please adapt your code to use either `displot` (a figure-level function with similar flexibility) or `histplot` (an axes-level function for histograms).\n",
      "  warnings.warn(msg, FutureWarning)\n"
     ]
    },
    {
     "data": {
      "image/png": "[encoded data removed]",
      "text/plain": [
       "<Figure size 432x288 with 1 Axes>"
      ]
     },
     "metadata": {
      "needs_background": "light"
     },
     "output_type": "display_data"
    },
    {
     "name": "stderr",
     "output_type": "stream",
     "text": [
      "c:\\softwares\\python3.8.1\\lib\\site-packages\\seaborn\\distributions.py:2619: FutureWarning: `distplot` is a deprecated function and will be removed in a future version. Please adapt your code to use either `displot` (a figure-level function with similar flexibility) or `histplot` (an axes-level function for histograms).\n",
      "  warnings.warn(msg, FutureWarning)\n"
     ]
    },
    {
     "data": {
      "image/png": "[encoded data removed]",
      "text/plain": [
       "<Figure size 432x288 with 1 Axes>"
      ]
     },
     "metadata": {
      "needs_background": "light"
     },
     "output_type": "display_data"
    },
    {
     "name": "stderr",
     "output_type": "stream",
     "text": [
      "c:\\softwares\\python3.8.1\\lib\\site-packages\\seaborn\\distributions.py:2619: FutureWarning: `distplot` is a deprecated function and will be removed in a future version. Please adapt your code to use either `displot` (a figure-level function with similar flexibility) or `histplot` (an axes-level function for histograms).\n",
      "  warnings.warn(msg, FutureWarning)\n"
     ]
    },
    {
     "data": {
      "image/png": "[encoded data removed]",
      "text/plain": [
       "<Figure size 432x288 with 1 Axes>"
      ]
     },
     "metadata": {
      "needs_background": "light"
     },
     "output_type": "display_data"
    },
    {
     "name": "stderr",
     "output_type": "stream",
     "text": [
      "c:\\softwares\\python3.8.1\\lib\\site-packages\\seaborn\\distributions.py:2619: FutureWarning: `distplot` is a deprecated function and will be removed in a future version. Please adapt your code to use either `displot` (a figure-level function with similar flexibility) or `histplot` (an axes-level function for histograms).\n",
      "  warnings.warn(msg, FutureWarning)\n"
     ]
    },
    {
     "data": {
      "image/png": "[encoded data removed]",
      "text/plain": [
       "<Figure size 432x288 with 1 Axes>"
      ]
     },
     "metadata": {
      "needs_background": "light"
     },
     "output_type": "display_data"
    }
   ],
   "source": [
    "features = ['Year', 'Runtime (Minutes)', 'Rating', 'Votes', 'Revenue (Millions)','Metascore']\n",
    "for j in features:\n",
    "    x = pd.Series(data[j], )\n",
    "    sns.distplot(x , color = 'purple', kde='True')\n",
    "    plt.show()"
   ]
  },
  {
   "cell_type": "markdown",
   "metadata": {},
   "source": [
    "#### Which is the top movie according to revenue?"
   ]
  },
  {
   "cell_type": "code",
   "execution_count": 13,
   "metadata": {
    "colab": {},
    "colab_type": "code",
    "id": "fwWa_FPerGCB",
    "scrolled": true
   },
   "outputs": [
    {
     "data": {
      "text/html": [
       "<div>\n",
       "<style scoped>\n",
       "    .dataframe tbody tr th:only-of-type {\n",
       "        vertical-align: middle;\n",
       "    }\n",
       "\n",
       "    .dataframe tbody tr th {\n",
       "        vertical-align: top;\n",
       "    }\n",
       "\n",
       "    .dataframe thead th {\n",
       "        text-align: right;\n",
       "    }\n",
       "</style>\n",
       "<table border=\"1\" class=\"dataframe\">\n",
       "  <thead>\n",
       "    <tr style=\"text-align: right;\">\n",
       "      <th></th>\n",
       "      <th>Rank</th>\n",
       "      <th>Title</th>\n",
       "      <th>Genre</th>\n",
       "      <th>Description</th>\n",
       "      <th>Director</th>\n",
       "      <th>Actors</th>\n",
       "      <th>Year</th>\n",
       "      <th>Runtime (Minutes)</th>\n",
       "      <th>Rating</th>\n",
       "      <th>Votes</th>\n",
       "      <th>Revenue (Millions)</th>\n",
       "      <th>Metascore</th>\n",
       "    </tr>\n",
       "  </thead>\n",
       "  <tbody>\n",
       "    <tr>\n",
       "      <th>15</th>\n",
       "      <td>16</td>\n",
       "      <td>The Secret Life of Pets</td>\n",
       "      <td>Animation,Adventure,Comedy</td>\n",
       "      <td>The quiet life of a terrier named Max is upend...</td>\n",
       "      <td>Chris Renaud</td>\n",
       "      <td>Louis C.K., Eric Stonestreet, Kevin Hart, Lake...</td>\n",
       "      <td>2016</td>\n",
       "      <td>87</td>\n",
       "      <td>6.6</td>\n",
       "      <td>120259</td>\n",
       "      <td>368.31</td>\n",
       "      <td>61.0</td>\n",
       "    </tr>\n",
       "  </tbody>\n",
       "</table>\n",
       "</div>"
      ],
      "text/plain": [
       "    Rank                    Title                       Genre  \\\n",
       "15    16  The Secret Life of Pets  Animation,Adventure,Comedy   \n",
       "\n",
       "                                          Description      Director  \\\n",
       "15  The quiet life of a terrier named Max is upend...  Chris Renaud   \n",
       "\n",
       "                                               Actors  Year  \\\n",
       "15  Louis C.K., Eric Stonestreet, Kevin Hart, Lake...  2016   \n",
       "\n",
       "    Runtime (Minutes)  Rating   Votes  Revenue (Millions)  Metascore  \n",
       "15                 87     6.6  120259              368.31       61.0  "
      ]
     },
     "execution_count": 13,
     "metadata": {},
     "output_type": "execute_result"
    }
   ],
   "source": [
    "data[data['Revenue (Millions)']==data['Revenue (Millions)'].max()]"
   ]
  },
  {
   "cell_type": "markdown",
   "metadata": {},
   "source": [
    "#### Which is the top movie according to Metascore?"
   ]
  },
  {
   "cell_type": "code",
   "execution_count": 21,
   "metadata": {
    "scrolled": true
   },
   "outputs": [
    {
     "data": {
      "text/html": [
       "<div>\n",
       "<style scoped>\n",
       "    .dataframe tbody tr th:only-of-type {\n",
       "        vertical-align: middle;\n",
       "    }\n",
       "\n",
       "    .dataframe tbody tr th {\n",
       "        vertical-align: top;\n",
       "    }\n",
       "\n",
       "    .dataframe thead th {\n",
       "        text-align: right;\n",
       "    }\n",
       "</style>\n",
       "<table border=\"1\" class=\"dataframe\">\n",
       "  <thead>\n",
       "    <tr style=\"text-align: right;\">\n",
       "      <th></th>\n",
       "      <th>Rank</th>\n",
       "      <th>Title</th>\n",
       "      <th>Genre</th>\n",
       "      <th>Description</th>\n",
       "      <th>Director</th>\n",
       "      <th>Actors</th>\n",
       "      <th>Year</th>\n",
       "      <th>Runtime (Minutes)</th>\n",
       "      <th>Rating</th>\n",
       "      <th>Votes</th>\n",
       "      <th>Revenue (Millions)</th>\n",
       "      <th>Metascore</th>\n",
       "    </tr>\n",
       "  </thead>\n",
       "  <tbody>\n",
       "    <tr>\n",
       "      <th>656</th>\n",
       "      <td>657</td>\n",
       "      <td>Boyhood</td>\n",
       "      <td>Drama</td>\n",
       "      <td>The life of Mason, from early childhood to his...</td>\n",
       "      <td>Richard Linklater</td>\n",
       "      <td>Ellar Coltrane, Patricia Arquette, Ethan Hawke...</td>\n",
       "      <td>2014</td>\n",
       "      <td>165</td>\n",
       "      <td>7.9</td>\n",
       "      <td>286722</td>\n",
       "      <td>25.36</td>\n",
       "      <td>100.0</td>\n",
       "    </tr>\n",
       "  </tbody>\n",
       "</table>\n",
       "</div>"
      ],
      "text/plain": [
       "     Rank    Title  Genre                                        Description  \\\n",
       "656   657  Boyhood  Drama  The life of Mason, from early childhood to his...   \n",
       "\n",
       "              Director                                             Actors  \\\n",
       "656  Richard Linklater  Ellar Coltrane, Patricia Arquette, Ethan Hawke...   \n",
       "\n",
       "     Year  Runtime (Minutes)  Rating   Votes  Revenue (Millions)  Metascore  \n",
       "656  2014                165     7.9  286722               25.36      100.0  "
      ]
     },
     "execution_count": 21,
     "metadata": {},
     "output_type": "execute_result"
    }
   ],
   "source": [
    "data[data['Metascore']==data['Metascore'].max()]"
   ]
  },
  {
   "cell_type": "markdown",
   "metadata": {},
   "source": [
    "#### Which movie has the highest rating?"
   ]
  },
  {
   "cell_type": "code",
   "execution_count": 40,
   "metadata": {
    "scrolled": true
   },
   "outputs": [
    {
     "data": {
      "text/html": [
       "<div>\n",
       "<style scoped>\n",
       "    .dataframe tbody tr th:only-of-type {\n",
       "        vertical-align: middle;\n",
       "    }\n",
       "\n",
       "    .dataframe tbody tr th {\n",
       "        vertical-align: top;\n",
       "    }\n",
       "\n",
       "    .dataframe thead th {\n",
       "        text-align: right;\n",
       "    }\n",
       "</style>\n",
       "<table border=\"1\" class=\"dataframe\">\n",
       "  <thead>\n",
       "    <tr style=\"text-align: right;\">\n",
       "      <th></th>\n",
       "      <th>Rank</th>\n",
       "      <th>Title</th>\n",
       "      <th>Genre</th>\n",
       "      <th>Description</th>\n",
       "      <th>Director</th>\n",
       "      <th>Actors</th>\n",
       "      <th>Year</th>\n",
       "      <th>Runtime (Minutes)</th>\n",
       "      <th>Rating</th>\n",
       "      <th>Votes</th>\n",
       "      <th>Revenue (Millions)</th>\n",
       "      <th>Metascore</th>\n",
       "    </tr>\n",
       "  </thead>\n",
       "  <tbody>\n",
       "    <tr>\n",
       "      <th>117</th>\n",
       "      <td>118</td>\n",
       "      <td>Dangal</td>\n",
       "      <td>Action,Biography,Drama</td>\n",
       "      <td>Former wrestler Mahavir Singh Phogat and his t...</td>\n",
       "      <td>Nitesh Tiwari</td>\n",
       "      <td>Aamir Khan, Sakshi Tanwar, Fatima Sana Shaikh,...</td>\n",
       "      <td>2016</td>\n",
       "      <td>161</td>\n",
       "      <td>8.8</td>\n",
       "      <td>48969</td>\n",
       "      <td>11.15</td>\n",
       "      <td>59.5</td>\n",
       "    </tr>\n",
       "  </tbody>\n",
       "</table>\n",
       "</div>"
      ],
      "text/plain": [
       "     Rank   Title                   Genre  \\\n",
       "117   118  Dangal  Action,Biography,Drama   \n",
       "\n",
       "                                           Description       Director  \\\n",
       "117  Former wrestler Mahavir Singh Phogat and his t...  Nitesh Tiwari   \n",
       "\n",
       "                                                Actors  Year  \\\n",
       "117  Aamir Khan, Sakshi Tanwar, Fatima Sana Shaikh,...  2016   \n",
       "\n",
       "     Runtime (Minutes)  Rating  Votes  Revenue (Millions)  Metascore  \n",
       "117                161     8.8  48969               11.15       59.5  "
      ]
     },
     "execution_count": 40,
     "metadata": {},
     "output_type": "execute_result"
    }
   ],
   "source": [
    "data[data['Rating']==data['Rating'].max()]"
   ]
  },
  {
   "cell_type": "markdown",
   "metadata": {},
   "source": [
    "#### Which have made the largest revenues?"
   ]
  },
  {
   "cell_type": "code",
   "execution_count": 36,
   "metadata": {
    "scrolled": true
   },
   "outputs": [
    {
     "data": {
      "text/plain": [
       "Text(0.5, 1.0, 'Highest earning movies')"
      ]
     },
     "execution_count": 36,
     "metadata": {},
     "output_type": "execute_result"
    },
    {
     "data": {
      "image/png": "[encoded data removed]",
      "text/plain": [
       "<Figure size 1080x576 with 1 Axes>"
      ]
     },
     "metadata": {
      "needs_background": "light"
     },
     "output_type": "display_data"
    }
   ],
   "source": [
    "data.groupby(['Title'])['Revenue (Millions)'].mean().sort_values(ascending=False)[:10].plot(kind='bar', figsize=(15,8), fontsize=13, color='green')\n",
    "plt.ylabel('Revenue')\n",
    "plt.title(\"Highest earning movies\")"
   ]
  },
  {
   "cell_type": "markdown",
   "metadata": {},
   "source": [
    "#### Has the film/movie industry became more popular than ever? Please give solution to support your answer."
   ]
  },
  {
   "cell_type": "code",
   "execution_count": 25,
   "metadata": {},
   "outputs": [
    {
     "data": {
      "text/html": [
       "<div>\n",
       "<style scoped>\n",
       "    .dataframe tbody tr th:only-of-type {\n",
       "        vertical-align: middle;\n",
       "    }\n",
       "\n",
       "    .dataframe tbody tr th {\n",
       "        vertical-align: top;\n",
       "    }\n",
       "\n",
       "    .dataframe thead th {\n",
       "        text-align: right;\n",
       "    }\n",
       "</style>\n",
       "<table border=\"1\" class=\"dataframe\">\n",
       "  <thead>\n",
       "    <tr style=\"text-align: right;\">\n",
       "      <th></th>\n",
       "      <th>Rank</th>\n",
       "      <th>Title</th>\n",
       "      <th>Genre</th>\n",
       "      <th>Description</th>\n",
       "      <th>Director</th>\n",
       "      <th>Actors</th>\n",
       "      <th>Year</th>\n",
       "      <th>Runtime (Minutes)</th>\n",
       "      <th>Rating</th>\n",
       "      <th>Votes</th>\n",
       "      <th>Revenue (Millions)</th>\n",
       "      <th>Metascore</th>\n",
       "    </tr>\n",
       "  </thead>\n",
       "  <tbody>\n",
       "    <tr>\n",
       "      <th>15</th>\n",
       "      <td>16</td>\n",
       "      <td>The Secret Life of Pets</td>\n",
       "      <td>Animation,Adventure,Comedy</td>\n",
       "      <td>The quiet life of a terrier named Max is upend...</td>\n",
       "      <td>Chris Renaud</td>\n",
       "      <td>Louis C.K., Eric Stonestreet, Kevin Hart, Lake...</td>\n",
       "      <td>2016</td>\n",
       "      <td>87</td>\n",
       "      <td>6.6</td>\n",
       "      <td>120259</td>\n",
       "      <td>368.31</td>\n",
       "      <td>61.0</td>\n",
       "    </tr>\n",
       "    <tr>\n",
       "      <th>797</th>\n",
       "      <td>798</td>\n",
       "      <td>Despicable Me 2</td>\n",
       "      <td>Animation,Adventure,Comedy</td>\n",
       "      <td>When Gru, the world's most super-bad turned su...</td>\n",
       "      <td>Pierre Coffin</td>\n",
       "      <td>Steve Carell, Kristen Wiig, Benjamin Bratt, Mi...</td>\n",
       "      <td>2013</td>\n",
       "      <td>98</td>\n",
       "      <td>7.4</td>\n",
       "      <td>304837</td>\n",
       "      <td>368.05</td>\n",
       "      <td>62.0</td>\n",
       "    </tr>\n",
       "    <tr>\n",
       "      <th>125</th>\n",
       "      <td>126</td>\n",
       "      <td>The Jungle Book</td>\n",
       "      <td>Adventure,Drama,Family</td>\n",
       "      <td>After a threat from the tiger Shere Khan force...</td>\n",
       "      <td>Jon Favreau</td>\n",
       "      <td>Neel Sethi, Bill Murray, Ben Kingsley, Idris Elba</td>\n",
       "      <td>2016</td>\n",
       "      <td>106</td>\n",
       "      <td>7.5</td>\n",
       "      <td>198243</td>\n",
       "      <td>364.00</td>\n",
       "      <td>77.0</td>\n",
       "    </tr>\n",
       "    <tr>\n",
       "      <th>33</th>\n",
       "      <td>34</td>\n",
       "      <td>Deadpool</td>\n",
       "      <td>Action,Adventure,Comedy</td>\n",
       "      <td>A fast-talking mercenary with a morbid sense o...</td>\n",
       "      <td>Tim Miller</td>\n",
       "      <td>Ryan Reynolds, Morena Baccarin, T.J. Miller, E...</td>\n",
       "      <td>2016</td>\n",
       "      <td>108</td>\n",
       "      <td>8.0</td>\n",
       "      <td>627797</td>\n",
       "      <td>363.02</td>\n",
       "      <td>65.0</td>\n",
       "    </tr>\n",
       "    <tr>\n",
       "      <th>241</th>\n",
       "      <td>242</td>\n",
       "      <td>Inside Out</td>\n",
       "      <td>Animation,Adventure,Comedy</td>\n",
       "      <td>After young Riley is uprooted from her Midwest...</td>\n",
       "      <td>Pete Docter</td>\n",
       "      <td>Amy Poehler, Bill Hader, Lewis Black, Mindy Ka...</td>\n",
       "      <td>2015</td>\n",
       "      <td>95</td>\n",
       "      <td>8.2</td>\n",
       "      <td>416689</td>\n",
       "      <td>356.45</td>\n",
       "      <td>94.0</td>\n",
       "    </tr>\n",
       "    <tr>\n",
       "      <th>566</th>\n",
       "      <td>567</td>\n",
       "      <td>Transformers: Dark of the Moon</td>\n",
       "      <td>Action,Adventure,Sci-Fi</td>\n",
       "      <td>The Autobots learn of a Cybertronian spacecraf...</td>\n",
       "      <td>Michael Bay</td>\n",
       "      <td>Shia LaBeouf, Rosie Huntington-Whiteley, Tyres...</td>\n",
       "      <td>2011</td>\n",
       "      <td>154</td>\n",
       "      <td>6.3</td>\n",
       "      <td>338369</td>\n",
       "      <td>352.36</td>\n",
       "      <td>42.0</td>\n",
       "    </tr>\n",
       "    <tr>\n",
       "      <th>331</th>\n",
       "      <td>332</td>\n",
       "      <td>American Sniper</td>\n",
       "      <td>Action,Biography,Drama</td>\n",
       "      <td>Navy S.E.A.L. sniper Chris Kyle's pinpoint acc...</td>\n",
       "      <td>Clint Eastwood</td>\n",
       "      <td>Bradley Cooper, Sienna Miller, Kyle Gallner, C...</td>\n",
       "      <td>2014</td>\n",
       "      <td>133</td>\n",
       "      <td>7.3</td>\n",
       "      <td>353305</td>\n",
       "      <td>350.12</td>\n",
       "      <td>72.0</td>\n",
       "    </tr>\n",
       "    <tr>\n",
       "      <th>84</th>\n",
       "      <td>85</td>\n",
       "      <td>Furious Seven</td>\n",
       "      <td>Action,Crime,Thriller</td>\n",
       "      <td>Deckard Shaw seeks revenge against Dominic Tor...</td>\n",
       "      <td>James Wan</td>\n",
       "      <td>Vin Diesel, Paul Walker, Dwayne Johnson, Jason...</td>\n",
       "      <td>2015</td>\n",
       "      <td>137</td>\n",
       "      <td>7.2</td>\n",
       "      <td>301249</td>\n",
       "      <td>350.03</td>\n",
       "      <td>67.0</td>\n",
       "    </tr>\n",
       "    <tr>\n",
       "      <th>74</th>\n",
       "      <td>75</td>\n",
       "      <td>Zootopia</td>\n",
       "      <td>Animation,Adventure,Comedy</td>\n",
       "      <td>In a city of anthropomorphic animals, a rookie...</td>\n",
       "      <td>Byron Howard</td>\n",
       "      <td>Ginnifer Goodwin, Jason Bateman, Idris Elba, J...</td>\n",
       "      <td>2016</td>\n",
       "      <td>108</td>\n",
       "      <td>8.1</td>\n",
       "      <td>296853</td>\n",
       "      <td>341.26</td>\n",
       "      <td>78.0</td>\n",
       "    </tr>\n",
       "    <tr>\n",
       "      <th>680</th>\n",
       "      <td>681</td>\n",
       "      <td>The Hunger Games: Mockingjay - Part 1</td>\n",
       "      <td>Action,Adventure,Sci-Fi</td>\n",
       "      <td>Katniss Everdeen is in District 13 after she s...</td>\n",
       "      <td>Francis Lawrence</td>\n",
       "      <td>Jennifer Lawrence, Josh Hutcherson, Liam Hemsw...</td>\n",
       "      <td>2014</td>\n",
       "      <td>123</td>\n",
       "      <td>6.7</td>\n",
       "      <td>331902</td>\n",
       "      <td>337.10</td>\n",
       "      <td>64.0</td>\n",
       "    </tr>\n",
       "  </tbody>\n",
       "</table>\n",
       "</div>"
      ],
      "text/plain": [
       "     Rank                                  Title                       Genre  \\\n",
       "15     16                The Secret Life of Pets  Animation,Adventure,Comedy   \n",
       "797   798                        Despicable Me 2  Animation,Adventure,Comedy   \n",
       "125   126                        The Jungle Book      Adventure,Drama,Family   \n",
       "33     34                               Deadpool     Action,Adventure,Comedy   \n",
       "241   242                             Inside Out  Animation,Adventure,Comedy   \n",
       "566   567         Transformers: Dark of the Moon     Action,Adventure,Sci-Fi   \n",
       "331   332                        American Sniper      Action,Biography,Drama   \n",
       "84     85                          Furious Seven       Action,Crime,Thriller   \n",
       "74     75                               Zootopia  Animation,Adventure,Comedy   \n",
       "680   681  The Hunger Games: Mockingjay - Part 1     Action,Adventure,Sci-Fi   \n",
       "\n",
       "                                           Description          Director  \\\n",
       "15   The quiet life of a terrier named Max is upend...      Chris Renaud   \n",
       "797  When Gru, the world's most super-bad turned su...     Pierre Coffin   \n",
       "125  After a threat from the tiger Shere Khan force...       Jon Favreau   \n",
       "33   A fast-talking mercenary with a morbid sense o...        Tim Miller   \n",
       "241  After young Riley is uprooted from her Midwest...       Pete Docter   \n",
       "566  The Autobots learn of a Cybertronian spacecraf...       Michael Bay   \n",
       "331  Navy S.E.A.L. sniper Chris Kyle's pinpoint acc...    Clint Eastwood   \n",
       "84   Deckard Shaw seeks revenge against Dominic Tor...         James Wan   \n",
       "74   In a city of anthropomorphic animals, a rookie...      Byron Howard   \n",
       "680  Katniss Everdeen is in District 13 after she s...  Francis Lawrence   \n",
       "\n",
       "                                                Actors  Year  \\\n",
       "15   Louis C.K., Eric Stonestreet, Kevin Hart, Lake...  2016   \n",
       "797  Steve Carell, Kristen Wiig, Benjamin Bratt, Mi...  2013   \n",
       "125  Neel Sethi, Bill Murray, Ben Kingsley, Idris Elba  2016   \n",
       "33   Ryan Reynolds, Morena Baccarin, T.J. Miller, E...  2016   \n",
       "241  Amy Poehler, Bill Hader, Lewis Black, Mindy Ka...  2015   \n",
       "566  Shia LaBeouf, Rosie Huntington-Whiteley, Tyres...  2011   \n",
       "331  Bradley Cooper, Sienna Miller, Kyle Gallner, C...  2014   \n",
       "84   Vin Diesel, Paul Walker, Dwayne Johnson, Jason...  2015   \n",
       "74   Ginnifer Goodwin, Jason Bateman, Idris Elba, J...  2016   \n",
       "680  Jennifer Lawrence, Josh Hutcherson, Liam Hemsw...  2014   \n",
       "\n",
       "     Runtime (Minutes)  Rating   Votes  Revenue (Millions)  Metascore  \n",
       "15                  87     6.6  120259              368.31       61.0  \n",
       "797                 98     7.4  304837              368.05       62.0  \n",
       "125                106     7.5  198243              364.00       77.0  \n",
       "33                 108     8.0  627797              363.02       65.0  \n",
       "241                 95     8.2  416689              356.45       94.0  \n",
       "566                154     6.3  338369              352.36       42.0  \n",
       "331                133     7.3  353305              350.12       72.0  \n",
       "84                 137     7.2  301249              350.03       67.0  \n",
       "74                 108     8.1  296853              341.26       78.0  \n",
       "680                123     6.7  331902              337.10       64.0  "
      ]
     },
     "execution_count": 25,
     "metadata": {},
     "output_type": "execute_result"
    }
   ],
   "source": [
    "data.sort_values(by=['Revenue (Millions)'], ascending=False).head(10)"
   ]
  },
  {
   "cell_type": "markdown",
   "metadata": {},
   "source": [
    "From the above code and output we can see that in last few years, the film industry has become more popular than ever because the top revenue is from movies that are released in 2011-16."
   ]
  },
  {
   "cell_type": "markdown",
   "metadata": {},
   "source": [
    "#### But what movies make the most money at the box office?"
   ]
  },
  {
   "cell_type": "code",
   "execution_count": 27,
   "metadata": {},
   "outputs": [
    {
     "data": {
      "text/html": [
       "<div>\n",
       "<style scoped>\n",
       "    .dataframe tbody tr th:only-of-type {\n",
       "        vertical-align: middle;\n",
       "    }\n",
       "\n",
       "    .dataframe tbody tr th {\n",
       "        vertical-align: top;\n",
       "    }\n",
       "\n",
       "    .dataframe thead th {\n",
       "        text-align: right;\n",
       "    }\n",
       "</style>\n",
       "<table border=\"1\" class=\"dataframe\">\n",
       "  <thead>\n",
       "    <tr style=\"text-align: right;\">\n",
       "      <th></th>\n",
       "      <th>Rank</th>\n",
       "      <th>Title</th>\n",
       "      <th>Genre</th>\n",
       "      <th>Description</th>\n",
       "      <th>Director</th>\n",
       "      <th>Actors</th>\n",
       "      <th>Year</th>\n",
       "      <th>Runtime (Minutes)</th>\n",
       "      <th>Rating</th>\n",
       "      <th>Votes</th>\n",
       "      <th>Revenue (Millions)</th>\n",
       "      <th>Metascore</th>\n",
       "    </tr>\n",
       "  </thead>\n",
       "  <tbody>\n",
       "    <tr>\n",
       "      <th>15</th>\n",
       "      <td>16</td>\n",
       "      <td>The Secret Life of Pets</td>\n",
       "      <td>Animation,Adventure,Comedy</td>\n",
       "      <td>The quiet life of a terrier named Max is upend...</td>\n",
       "      <td>Chris Renaud</td>\n",
       "      <td>Louis C.K., Eric Stonestreet, Kevin Hart, Lake...</td>\n",
       "      <td>2016</td>\n",
       "      <td>87</td>\n",
       "      <td>6.6</td>\n",
       "      <td>120259</td>\n",
       "      <td>368.31</td>\n",
       "      <td>61.0</td>\n",
       "    </tr>\n",
       "    <tr>\n",
       "      <th>797</th>\n",
       "      <td>798</td>\n",
       "      <td>Despicable Me 2</td>\n",
       "      <td>Animation,Adventure,Comedy</td>\n",
       "      <td>When Gru, the world's most super-bad turned su...</td>\n",
       "      <td>Pierre Coffin</td>\n",
       "      <td>Steve Carell, Kristen Wiig, Benjamin Bratt, Mi...</td>\n",
       "      <td>2013</td>\n",
       "      <td>98</td>\n",
       "      <td>7.4</td>\n",
       "      <td>304837</td>\n",
       "      <td>368.05</td>\n",
       "      <td>62.0</td>\n",
       "    </tr>\n",
       "    <tr>\n",
       "      <th>125</th>\n",
       "      <td>126</td>\n",
       "      <td>The Jungle Book</td>\n",
       "      <td>Adventure,Drama,Family</td>\n",
       "      <td>After a threat from the tiger Shere Khan force...</td>\n",
       "      <td>Jon Favreau</td>\n",
       "      <td>Neel Sethi, Bill Murray, Ben Kingsley, Idris Elba</td>\n",
       "      <td>2016</td>\n",
       "      <td>106</td>\n",
       "      <td>7.5</td>\n",
       "      <td>198243</td>\n",
       "      <td>364.00</td>\n",
       "      <td>77.0</td>\n",
       "    </tr>\n",
       "    <tr>\n",
       "      <th>33</th>\n",
       "      <td>34</td>\n",
       "      <td>Deadpool</td>\n",
       "      <td>Action,Adventure,Comedy</td>\n",
       "      <td>A fast-talking mercenary with a morbid sense o...</td>\n",
       "      <td>Tim Miller</td>\n",
       "      <td>Ryan Reynolds, Morena Baccarin, T.J. Miller, E...</td>\n",
       "      <td>2016</td>\n",
       "      <td>108</td>\n",
       "      <td>8.0</td>\n",
       "      <td>627797</td>\n",
       "      <td>363.02</td>\n",
       "      <td>65.0</td>\n",
       "    </tr>\n",
       "    <tr>\n",
       "      <th>241</th>\n",
       "      <td>242</td>\n",
       "      <td>Inside Out</td>\n",
       "      <td>Animation,Adventure,Comedy</td>\n",
       "      <td>After young Riley is uprooted from her Midwest...</td>\n",
       "      <td>Pete Docter</td>\n",
       "      <td>Amy Poehler, Bill Hader, Lewis Black, Mindy Ka...</td>\n",
       "      <td>2015</td>\n",
       "      <td>95</td>\n",
       "      <td>8.2</td>\n",
       "      <td>416689</td>\n",
       "      <td>356.45</td>\n",
       "      <td>94.0</td>\n",
       "    </tr>\n",
       "  </tbody>\n",
       "</table>\n",
       "</div>"
      ],
      "text/plain": [
       "     Rank                    Title                       Genre  \\\n",
       "15     16  The Secret Life of Pets  Animation,Adventure,Comedy   \n",
       "797   798          Despicable Me 2  Animation,Adventure,Comedy   \n",
       "125   126          The Jungle Book      Adventure,Drama,Family   \n",
       "33     34                 Deadpool     Action,Adventure,Comedy   \n",
       "241   242               Inside Out  Animation,Adventure,Comedy   \n",
       "\n",
       "                                           Description       Director  \\\n",
       "15   The quiet life of a terrier named Max is upend...   Chris Renaud   \n",
       "797  When Gru, the world's most super-bad turned su...  Pierre Coffin   \n",
       "125  After a threat from the tiger Shere Khan force...    Jon Favreau   \n",
       "33   A fast-talking mercenary with a morbid sense o...     Tim Miller   \n",
       "241  After young Riley is uprooted from her Midwest...    Pete Docter   \n",
       "\n",
       "                                                Actors  Year  \\\n",
       "15   Louis C.K., Eric Stonestreet, Kevin Hart, Lake...  2016   \n",
       "797  Steve Carell, Kristen Wiig, Benjamin Bratt, Mi...  2013   \n",
       "125  Neel Sethi, Bill Murray, Ben Kingsley, Idris Elba  2016   \n",
       "33   Ryan Reynolds, Morena Baccarin, T.J. Miller, E...  2016   \n",
       "241  Amy Poehler, Bill Hader, Lewis Black, Mindy Ka...  2015   \n",
       "\n",
       "     Runtime (Minutes)  Rating   Votes  Revenue (Millions)  Metascore  \n",
       "15                  87     6.6  120259              368.31       61.0  \n",
       "797                 98     7.4  304837              368.05       62.0  \n",
       "125                106     7.5  198243              364.00       77.0  \n",
       "33                 108     8.0  627797              363.02       65.0  \n",
       "241                 95     8.2  416689              356.45       94.0  "
      ]
     },
     "execution_count": 27,
     "metadata": {},
     "output_type": "execute_result"
    }
   ],
   "source": [
    "data.sort_values(by=['Revenue (Millions)'], ascending=False).head(5)"
   ]
  },
  {
   "cell_type": "markdown",
   "metadata": {},
   "source": [
    "From the above output, we can observe that movies with Animation,Adventure and Comedy genre are the movies that make the most money/revenue."
   ]
  },
  {
   "cell_type": "markdown",
   "metadata": {},
   "source": [
    "#### What are the top 10 most revenue making directors?"
   ]
  },
  {
   "cell_type": "code",
   "execution_count": 39,
   "metadata": {
    "scrolled": true
   },
   "outputs": [
    {
     "data": {
      "text/html": [
       "<div>\n",
       "<style scoped>\n",
       "    .dataframe tbody tr th:only-of-type {\n",
       "        vertical-align: middle;\n",
       "    }\n",
       "\n",
       "    .dataframe tbody tr th {\n",
       "        vertical-align: top;\n",
       "    }\n",
       "\n",
       "    .dataframe thead th {\n",
       "        text-align: right;\n",
       "    }\n",
       "</style>\n",
       "<table border=\"1\" class=\"dataframe\">\n",
       "  <thead>\n",
       "    <tr style=\"text-align: right;\">\n",
       "      <th></th>\n",
       "      <th>Rank</th>\n",
       "      <th>Year</th>\n",
       "      <th>Runtime (Minutes)</th>\n",
       "      <th>Rating</th>\n",
       "      <th>Votes</th>\n",
       "      <th>Revenue (Millions)</th>\n",
       "      <th>Metascore</th>\n",
       "    </tr>\n",
       "    <tr>\n",
       "      <th>Director</th>\n",
       "      <th></th>\n",
       "      <th></th>\n",
       "      <th></th>\n",
       "      <th></th>\n",
       "      <th></th>\n",
       "      <th></th>\n",
       "      <th></th>\n",
       "    </tr>\n",
       "  </thead>\n",
       "  <tbody>\n",
       "    <tr>\n",
       "      <th>David Yates</th>\n",
       "      <td>1327</td>\n",
       "      <td>10058</td>\n",
       "      <td>680</td>\n",
       "      <td>36.5</td>\n",
       "      <td>1443259</td>\n",
       "      <td>1249.55</td>\n",
       "      <td>324.0</td>\n",
       "    </tr>\n",
       "    <tr>\n",
       "      <th>Michael Bay</th>\n",
       "      <td>1745</td>\n",
       "      <td>10061</td>\n",
       "      <td>736</td>\n",
       "      <td>32.9</td>\n",
       "      <td>1370774</td>\n",
       "      <td>1019.24</td>\n",
       "      <td>228.0</td>\n",
       "    </tr>\n",
       "    <tr>\n",
       "      <th>Zack Snyder</th>\n",
       "      <td>904</td>\n",
       "      <td>10055</td>\n",
       "      <td>683</td>\n",
       "      <td>35.2</td>\n",
       "      <td>2301544</td>\n",
       "      <td>975.74</td>\n",
       "      <td>240.0</td>\n",
       "    </tr>\n",
       "    <tr>\n",
       "      <th>Francis Lawrence</th>\n",
       "      <td>1586</td>\n",
       "      <td>6036</td>\n",
       "      <td>361</td>\n",
       "      <td>20.5</td>\n",
       "      <td>1100003</td>\n",
       "      <td>875.16</td>\n",
       "      <td>194.0</td>\n",
       "    </tr>\n",
       "    <tr>\n",
       "      <th>Peter Jackson</th>\n",
       "      <td>1718</td>\n",
       "      <td>8048</td>\n",
       "      <td>609</td>\n",
       "      <td>29.9</td>\n",
       "      <td>1698695</td>\n",
       "      <td>860.45</td>\n",
       "      <td>225.0</td>\n",
       "    </tr>\n",
       "    <tr>\n",
       "      <th>Justin Lin</th>\n",
       "      <td>1154</td>\n",
       "      <td>10055</td>\n",
       "      <td>594</td>\n",
       "      <td>34.1</td>\n",
       "      <td>1194364</td>\n",
       "      <td>824.79</td>\n",
       "      <td>286.0</td>\n",
       "    </tr>\n",
       "    <tr>\n",
       "      <th>J.J. Abrams</th>\n",
       "      <td>1872</td>\n",
       "      <td>8039</td>\n",
       "      <td>497</td>\n",
       "      <td>29.8</td>\n",
       "      <td>1513329</td>\n",
       "      <td>746.82</td>\n",
       "      <td>292.0</td>\n",
       "    </tr>\n",
       "    <tr>\n",
       "      <th>Ridley Scott</th>\n",
       "      <td>3272</td>\n",
       "      <td>16085</td>\n",
       "      <td>1077</td>\n",
       "      <td>54.8</td>\n",
       "      <td>2080074</td>\n",
       "      <td>719.06</td>\n",
       "      <td>478.0</td>\n",
       "    </tr>\n",
       "    <tr>\n",
       "      <th>Jon Favreau</th>\n",
       "      <td>1339</td>\n",
       "      <td>6040</td>\n",
       "      <td>344</td>\n",
       "      <td>21.8</td>\n",
       "      <td>906879</td>\n",
       "      <td>707.30</td>\n",
       "      <td>202.0</td>\n",
       "    </tr>\n",
       "    <tr>\n",
       "      <th>Clint Eastwood</th>\n",
       "      <td>1898</td>\n",
       "      <td>8046</td>\n",
       "      <td>486</td>\n",
       "      <td>30.8</td>\n",
       "      <td>1293485</td>\n",
       "      <td>658.99</td>\n",
       "      <td>268.5</td>\n",
       "    </tr>\n",
       "  </tbody>\n",
       "</table>\n",
       "</div>"
      ],
      "text/plain": [
       "                  Rank   Year  Runtime (Minutes)  Rating    Votes  \\\n",
       "Director                                                            \n",
       "David Yates       1327  10058                680    36.5  1443259   \n",
       "Michael Bay       1745  10061                736    32.9  1370774   \n",
       "Zack Snyder        904  10055                683    35.2  2301544   \n",
       "Francis Lawrence  1586   6036                361    20.5  1100003   \n",
       "Peter Jackson     1718   8048                609    29.9  1698695   \n",
       "Justin Lin        1154  10055                594    34.1  1194364   \n",
       "J.J. Abrams       1872   8039                497    29.8  1513329   \n",
       "Ridley Scott      3272  16085               1077    54.8  2080074   \n",
       "Jon Favreau       1339   6040                344    21.8   906879   \n",
       "Clint Eastwood    1898   8046                486    30.8  1293485   \n",
       "\n",
       "                  Revenue (Millions)  Metascore  \n",
       "Director                                         \n",
       "David Yates                  1249.55      324.0  \n",
       "Michael Bay                  1019.24      228.0  \n",
       "Zack Snyder                   975.74      240.0  \n",
       "Francis Lawrence              875.16      194.0  \n",
       "Peter Jackson                 860.45      225.0  \n",
       "Justin Lin                    824.79      286.0  \n",
       "J.J. Abrams                   746.82      292.0  \n",
       "Ridley Scott                  719.06      478.0  \n",
       "Jon Favreau                   707.30      202.0  \n",
       "Clint Eastwood                658.99      268.5  "
      ]
     },
     "execution_count": 39,
     "metadata": {},
     "output_type": "execute_result"
    }
   ],
   "source": [
    "data.groupby(['Director']).sum().sort_values(by=['Revenue (Millions)'], ascending=False).head(10)"
   ]
  },
  {
   "cell_type": "markdown",
   "metadata": {},
   "source": [
    "#### Does the director and the actors matter?"
   ]
  },
  {
   "cell_type": "code",
   "execution_count": 31,
   "metadata": {
    "scrolled": true
   },
   "outputs": [
    {
     "data": {
      "text/html": [
       "<div>\n",
       "<style scoped>\n",
       "    .dataframe tbody tr th:only-of-type {\n",
       "        vertical-align: middle;\n",
       "    }\n",
       "\n",
       "    .dataframe tbody tr th {\n",
       "        vertical-align: top;\n",
       "    }\n",
       "\n",
       "    .dataframe thead th {\n",
       "        text-align: right;\n",
       "    }\n",
       "</style>\n",
       "<table border=\"1\" class=\"dataframe\">\n",
       "  <thead>\n",
       "    <tr style=\"text-align: right;\">\n",
       "      <th></th>\n",
       "      <th>Rank</th>\n",
       "      <th>Year</th>\n",
       "      <th>Runtime (Minutes)</th>\n",
       "      <th>Rating</th>\n",
       "      <th>Votes</th>\n",
       "      <th>Revenue (Millions)</th>\n",
       "      <th>Metascore</th>\n",
       "    </tr>\n",
       "    <tr>\n",
       "      <th>Director</th>\n",
       "      <th></th>\n",
       "      <th></th>\n",
       "      <th></th>\n",
       "      <th></th>\n",
       "      <th></th>\n",
       "      <th></th>\n",
       "      <th></th>\n",
       "    </tr>\n",
       "  </thead>\n",
       "  <tbody>\n",
       "    <tr>\n",
       "      <th>David Yates</th>\n",
       "      <td>1327</td>\n",
       "      <td>10058</td>\n",
       "      <td>680</td>\n",
       "      <td>36.5</td>\n",
       "      <td>1443259</td>\n",
       "      <td>1249.55</td>\n",
       "      <td>324.0</td>\n",
       "    </tr>\n",
       "    <tr>\n",
       "      <th>Michael Bay</th>\n",
       "      <td>1745</td>\n",
       "      <td>10061</td>\n",
       "      <td>736</td>\n",
       "      <td>32.9</td>\n",
       "      <td>1370774</td>\n",
       "      <td>1019.24</td>\n",
       "      <td>228.0</td>\n",
       "    </tr>\n",
       "    <tr>\n",
       "      <th>Zack Snyder</th>\n",
       "      <td>904</td>\n",
       "      <td>10055</td>\n",
       "      <td>683</td>\n",
       "      <td>35.2</td>\n",
       "      <td>2301544</td>\n",
       "      <td>975.74</td>\n",
       "      <td>240.0</td>\n",
       "    </tr>\n",
       "    <tr>\n",
       "      <th>Francis Lawrence</th>\n",
       "      <td>1586</td>\n",
       "      <td>6036</td>\n",
       "      <td>361</td>\n",
       "      <td>20.5</td>\n",
       "      <td>1100003</td>\n",
       "      <td>875.16</td>\n",
       "      <td>194.0</td>\n",
       "    </tr>\n",
       "    <tr>\n",
       "      <th>Peter Jackson</th>\n",
       "      <td>1718</td>\n",
       "      <td>8048</td>\n",
       "      <td>609</td>\n",
       "      <td>29.9</td>\n",
       "      <td>1698695</td>\n",
       "      <td>860.45</td>\n",
       "      <td>225.0</td>\n",
       "    </tr>\n",
       "    <tr>\n",
       "      <th>Justin Lin</th>\n",
       "      <td>1154</td>\n",
       "      <td>10055</td>\n",
       "      <td>594</td>\n",
       "      <td>34.1</td>\n",
       "      <td>1194364</td>\n",
       "      <td>824.79</td>\n",
       "      <td>286.0</td>\n",
       "    </tr>\n",
       "    <tr>\n",
       "      <th>J.J. Abrams</th>\n",
       "      <td>1872</td>\n",
       "      <td>8039</td>\n",
       "      <td>497</td>\n",
       "      <td>29.8</td>\n",
       "      <td>1513329</td>\n",
       "      <td>746.82</td>\n",
       "      <td>292.0</td>\n",
       "    </tr>\n",
       "    <tr>\n",
       "      <th>Ridley Scott</th>\n",
       "      <td>3272</td>\n",
       "      <td>16085</td>\n",
       "      <td>1077</td>\n",
       "      <td>54.8</td>\n",
       "      <td>2080074</td>\n",
       "      <td>719.06</td>\n",
       "      <td>478.0</td>\n",
       "    </tr>\n",
       "    <tr>\n",
       "      <th>Jon Favreau</th>\n",
       "      <td>1339</td>\n",
       "      <td>6040</td>\n",
       "      <td>344</td>\n",
       "      <td>21.8</td>\n",
       "      <td>906879</td>\n",
       "      <td>707.30</td>\n",
       "      <td>202.0</td>\n",
       "    </tr>\n",
       "    <tr>\n",
       "      <th>Clint Eastwood</th>\n",
       "      <td>1898</td>\n",
       "      <td>8046</td>\n",
       "      <td>486</td>\n",
       "      <td>30.8</td>\n",
       "      <td>1293485</td>\n",
       "      <td>658.99</td>\n",
       "      <td>268.5</td>\n",
       "    </tr>\n",
       "  </tbody>\n",
       "</table>\n",
       "</div>"
      ],
      "text/plain": [
       "                  Rank   Year  Runtime (Minutes)  Rating    Votes  \\\n",
       "Director                                                            \n",
       "David Yates       1327  10058                680    36.5  1443259   \n",
       "Michael Bay       1745  10061                736    32.9  1370774   \n",
       "Zack Snyder        904  10055                683    35.2  2301544   \n",
       "Francis Lawrence  1586   6036                361    20.5  1100003   \n",
       "Peter Jackson     1718   8048                609    29.9  1698695   \n",
       "Justin Lin        1154  10055                594    34.1  1194364   \n",
       "J.J. Abrams       1872   8039                497    29.8  1513329   \n",
       "Ridley Scott      3272  16085               1077    54.8  2080074   \n",
       "Jon Favreau       1339   6040                344    21.8   906879   \n",
       "Clint Eastwood    1898   8046                486    30.8  1293485   \n",
       "\n",
       "                  Revenue (Millions)  Metascore  \n",
       "Director                                         \n",
       "David Yates                  1249.55      324.0  \n",
       "Michael Bay                  1019.24      228.0  \n",
       "Zack Snyder                   975.74      240.0  \n",
       "Francis Lawrence              875.16      194.0  \n",
       "Peter Jackson                 860.45      225.0  \n",
       "Justin Lin                    824.79      286.0  \n",
       "J.J. Abrams                   746.82      292.0  \n",
       "Ridley Scott                  719.06      478.0  \n",
       "Jon Favreau                   707.30      202.0  \n",
       "Clint Eastwood                658.99      268.5  "
      ]
     },
     "execution_count": 31,
     "metadata": {},
     "output_type": "execute_result"
    }
   ],
   "source": [
    "data.groupby(['Director']).sum().sort_values(by=['Revenue (Millions)'], ascending=False).head(10)"
   ]
  },
  {
   "cell_type": "code",
   "execution_count": 32,
   "metadata": {},
   "outputs": [
    {
     "data": {
      "text/html": [
       "<div>\n",
       "<style scoped>\n",
       "    .dataframe tbody tr th:only-of-type {\n",
       "        vertical-align: middle;\n",
       "    }\n",
       "\n",
       "    .dataframe tbody tr th {\n",
       "        vertical-align: top;\n",
       "    }\n",
       "\n",
       "    .dataframe thead th {\n",
       "        text-align: right;\n",
       "    }\n",
       "</style>\n",
       "<table border=\"1\" class=\"dataframe\">\n",
       "  <thead>\n",
       "    <tr style=\"text-align: right;\">\n",
       "      <th></th>\n",
       "      <th>Rank</th>\n",
       "      <th>Year</th>\n",
       "      <th>Runtime (Minutes)</th>\n",
       "      <th>Rating</th>\n",
       "      <th>Votes</th>\n",
       "      <th>Revenue (Millions)</th>\n",
       "      <th>Metascore</th>\n",
       "    </tr>\n",
       "    <tr>\n",
       "      <th>Actors</th>\n",
       "      <th></th>\n",
       "      <th></th>\n",
       "      <th></th>\n",
       "      <th></th>\n",
       "      <th></th>\n",
       "      <th></th>\n",
       "      <th></th>\n",
       "    </tr>\n",
       "  </thead>\n",
       "  <tbody>\n",
       "    <tr>\n",
       "      <th>Jennifer Lawrence, Josh Hutcherson, Liam Hemsworth, Woody Harrelson</th>\n",
       "      <td>1090</td>\n",
       "      <td>4029</td>\n",
       "      <td>260</td>\n",
       "      <td>13.3</td>\n",
       "      <td>534282</td>\n",
       "      <td>618.77</td>\n",
       "      <td>129.0</td>\n",
       "    </tr>\n",
       "    <tr>\n",
       "      <th>Louis C.K., Eric Stonestreet, Kevin Hart, Lake Bell</th>\n",
       "      <td>16</td>\n",
       "      <td>2016</td>\n",
       "      <td>87</td>\n",
       "      <td>6.6</td>\n",
       "      <td>120259</td>\n",
       "      <td>368.31</td>\n",
       "      <td>61.0</td>\n",
       "    </tr>\n",
       "    <tr>\n",
       "      <th>Steve Carell, Kristen Wiig, Benjamin Bratt, Miranda Cosgrove</th>\n",
       "      <td>798</td>\n",
       "      <td>2013</td>\n",
       "      <td>98</td>\n",
       "      <td>7.4</td>\n",
       "      <td>304837</td>\n",
       "      <td>368.05</td>\n",
       "      <td>62.0</td>\n",
       "    </tr>\n",
       "    <tr>\n",
       "      <th>Neel Sethi, Bill Murray, Ben Kingsley, Idris Elba</th>\n",
       "      <td>126</td>\n",
       "      <td>2016</td>\n",
       "      <td>106</td>\n",
       "      <td>7.5</td>\n",
       "      <td>198243</td>\n",
       "      <td>364.00</td>\n",
       "      <td>77.0</td>\n",
       "    </tr>\n",
       "    <tr>\n",
       "      <th>Ryan Reynolds, Morena Baccarin, T.J. Miller, Ed Skrein</th>\n",
       "      <td>34</td>\n",
       "      <td>2016</td>\n",
       "      <td>108</td>\n",
       "      <td>8.0</td>\n",
       "      <td>627797</td>\n",
       "      <td>363.02</td>\n",
       "      <td>65.0</td>\n",
       "    </tr>\n",
       "    <tr>\n",
       "      <th>Amy Poehler, Bill Hader, Lewis Black, Mindy Kaling</th>\n",
       "      <td>242</td>\n",
       "      <td>2015</td>\n",
       "      <td>95</td>\n",
       "      <td>8.2</td>\n",
       "      <td>416689</td>\n",
       "      <td>356.45</td>\n",
       "      <td>94.0</td>\n",
       "    </tr>\n",
       "    <tr>\n",
       "      <th>Shia LaBeouf, Rosie Huntington-Whiteley, Tyrese Gibson, Josh Duhamel</th>\n",
       "      <td>567</td>\n",
       "      <td>2011</td>\n",
       "      <td>154</td>\n",
       "      <td>6.3</td>\n",
       "      <td>338369</td>\n",
       "      <td>352.36</td>\n",
       "      <td>42.0</td>\n",
       "    </tr>\n",
       "    <tr>\n",
       "      <th>Bradley Cooper, Sienna Miller, Kyle Gallner, Cole Konis</th>\n",
       "      <td>332</td>\n",
       "      <td>2014</td>\n",
       "      <td>133</td>\n",
       "      <td>7.3</td>\n",
       "      <td>353305</td>\n",
       "      <td>350.12</td>\n",
       "      <td>72.0</td>\n",
       "    </tr>\n",
       "    <tr>\n",
       "      <th>Vin Diesel, Paul Walker, Dwayne Johnson, Jason Statham</th>\n",
       "      <td>85</td>\n",
       "      <td>2015</td>\n",
       "      <td>137</td>\n",
       "      <td>7.2</td>\n",
       "      <td>301249</td>\n",
       "      <td>350.03</td>\n",
       "      <td>67.0</td>\n",
       "    </tr>\n",
       "    <tr>\n",
       "      <th>Ginnifer Goodwin, Jason Bateman, Idris Elba, Jenny Slate</th>\n",
       "      <td>75</td>\n",
       "      <td>2016</td>\n",
       "      <td>108</td>\n",
       "      <td>8.1</td>\n",
       "      <td>296853</td>\n",
       "      <td>341.26</td>\n",
       "      <td>78.0</td>\n",
       "    </tr>\n",
       "  </tbody>\n",
       "</table>\n",
       "</div>"
      ],
      "text/plain": [
       "                                                    Rank  Year  \\\n",
       "Actors                                                           \n",
       "Jennifer Lawrence, Josh Hutcherson, Liam Hemswo...  1090  4029   \n",
       "Louis C.K., Eric Stonestreet, Kevin Hart, Lake ...    16  2016   \n",
       "Steve Carell, Kristen Wiig, Benjamin Bratt, Mir...   798  2013   \n",
       "Neel Sethi, Bill Murray, Ben Kingsley, Idris Elba    126  2016   \n",
       "Ryan Reynolds, Morena Baccarin, T.J. Miller, Ed...    34  2016   \n",
       "Amy Poehler, Bill Hader, Lewis Black, Mindy Kaling   242  2015   \n",
       "Shia LaBeouf, Rosie Huntington-Whiteley, Tyrese...   567  2011   \n",
       "Bradley Cooper, Sienna Miller, Kyle Gallner, Co...   332  2014   \n",
       "Vin Diesel, Paul Walker, Dwayne Johnson, Jason ...    85  2015   \n",
       "Ginnifer Goodwin, Jason Bateman, Idris Elba, Je...    75  2016   \n",
       "\n",
       "                                                    Runtime (Minutes)  Rating  \\\n",
       "Actors                                                                          \n",
       "Jennifer Lawrence, Josh Hutcherson, Liam Hemswo...                260    13.3   \n",
       "Louis C.K., Eric Stonestreet, Kevin Hart, Lake ...                 87     6.6   \n",
       "Steve Carell, Kristen Wiig, Benjamin Bratt, Mir...                 98     7.4   \n",
       "Neel Sethi, Bill Murray, Ben Kingsley, Idris Elba                 106     7.5   \n",
       "Ryan Reynolds, Morena Baccarin, T.J. Miller, Ed...                108     8.0   \n",
       "Amy Poehler, Bill Hader, Lewis Black, Mindy Kaling                 95     8.2   \n",
       "Shia LaBeouf, Rosie Huntington-Whiteley, Tyrese...                154     6.3   \n",
       "Bradley Cooper, Sienna Miller, Kyle Gallner, Co...                133     7.3   \n",
       "Vin Diesel, Paul Walker, Dwayne Johnson, Jason ...                137     7.2   \n",
       "Ginnifer Goodwin, Jason Bateman, Idris Elba, Je...                108     8.1   \n",
       "\n",
       "                                                     Votes  \\\n",
       "Actors                                                       \n",
       "Jennifer Lawrence, Josh Hutcherson, Liam Hemswo...  534282   \n",
       "Louis C.K., Eric Stonestreet, Kevin Hart, Lake ...  120259   \n",
       "Steve Carell, Kristen Wiig, Benjamin Bratt, Mir...  304837   \n",
       "Neel Sethi, Bill Murray, Ben Kingsley, Idris Elba   198243   \n",
       "Ryan Reynolds, Morena Baccarin, T.J. Miller, Ed...  627797   \n",
       "Amy Poehler, Bill Hader, Lewis Black, Mindy Kaling  416689   \n",
       "Shia LaBeouf, Rosie Huntington-Whiteley, Tyrese...  338369   \n",
       "Bradley Cooper, Sienna Miller, Kyle Gallner, Co...  353305   \n",
       "Vin Diesel, Paul Walker, Dwayne Johnson, Jason ...  301249   \n",
       "Ginnifer Goodwin, Jason Bateman, Idris Elba, Je...  296853   \n",
       "\n",
       "                                                    Revenue (Millions)  \\\n",
       "Actors                                                                   \n",
       "Jennifer Lawrence, Josh Hutcherson, Liam Hemswo...              618.77   \n",
       "Louis C.K., Eric Stonestreet, Kevin Hart, Lake ...              368.31   \n",
       "Steve Carell, Kristen Wiig, Benjamin Bratt, Mir...              368.05   \n",
       "Neel Sethi, Bill Murray, Ben Kingsley, Idris Elba               364.00   \n",
       "Ryan Reynolds, Morena Baccarin, T.J. Miller, Ed...              363.02   \n",
       "Amy Poehler, Bill Hader, Lewis Black, Mindy Kaling              356.45   \n",
       "Shia LaBeouf, Rosie Huntington-Whiteley, Tyrese...              352.36   \n",
       "Bradley Cooper, Sienna Miller, Kyle Gallner, Co...              350.12   \n",
       "Vin Diesel, Paul Walker, Dwayne Johnson, Jason ...              350.03   \n",
       "Ginnifer Goodwin, Jason Bateman, Idris Elba, Je...              341.26   \n",
       "\n",
       "                                                    Metascore  \n",
       "Actors                                                         \n",
       "Jennifer Lawrence, Josh Hutcherson, Liam Hemswo...      129.0  \n",
       "Louis C.K., Eric Stonestreet, Kevin Hart, Lake ...       61.0  \n",
       "Steve Carell, Kristen Wiig, Benjamin Bratt, Mir...       62.0  \n",
       "Neel Sethi, Bill Murray, Ben Kingsley, Idris Elba        77.0  \n",
       "Ryan Reynolds, Morena Baccarin, T.J. Miller, Ed...       65.0  \n",
       "Amy Poehler, Bill Hader, Lewis Black, Mindy Kaling       94.0  \n",
       "Shia LaBeouf, Rosie Huntington-Whiteley, Tyrese...       42.0  \n",
       "Bradley Cooper, Sienna Miller, Kyle Gallner, Co...       72.0  \n",
       "Vin Diesel, Paul Walker, Dwayne Johnson, Jason ...       67.0  \n",
       "Ginnifer Goodwin, Jason Bateman, Idris Elba, Je...       78.0  "
      ]
     },
     "execution_count": 32,
     "metadata": {},
     "output_type": "execute_result"
    }
   ],
   "source": [
    "data.groupby(['Actors']).sum().sort_values(by=['Revenue (Millions)'], ascending=False).head(10)"
   ]
  },
  {
   "cell_type": "markdown",
   "metadata": {},
   "source": [
    "As we can observe from the above output, movies directed by David Yates have made the most revenue (sum). And many movie watchers/viewers love some particular type of directors and some particular directors and actors, so we can say that yes, director and the actors matter."
   ]
  },
  {
   "cell_type": "code",
   "execution_count": 35,
   "metadata": {
    "scrolled": true
   },
   "outputs": [
    {
     "name": "stderr",
     "output_type": "stream",
     "text": [
      "c:\\softwares\\python3.8.1\\lib\\site-packages\\seaborn\\categorical.py:1296: UserWarning: 20.8% of the points cannot be placed; you may want to decrease the size of the markers or use stripplot.\n",
      "  warnings.warn(msg, UserWarning)\n",
      "c:\\softwares\\python3.8.1\\lib\\site-packages\\seaborn\\categorical.py:1296: UserWarning: 10.4% of the points cannot be placed; you may want to decrease the size of the markers or use stripplot.\n",
      "  warnings.warn(msg, UserWarning)\n",
      "c:\\softwares\\python3.8.1\\lib\\site-packages\\seaborn\\categorical.py:1296: UserWarning: 6.4% of the points cannot be placed; you may want to decrease the size of the markers or use stripplot.\n",
      "  warnings.warn(msg, UserWarning)\n",
      "c:\\softwares\\python3.8.1\\lib\\site-packages\\seaborn\\categorical.py:1296: UserWarning: 12.3% of the points cannot be placed; you may want to decrease the size of the markers or use stripplot.\n",
      "  warnings.warn(msg, UserWarning)\n",
      "c:\\softwares\\python3.8.1\\lib\\site-packages\\seaborn\\categorical.py:1296: UserWarning: 14.5% of the points cannot be placed; you may want to decrease the size of the markers or use stripplot.\n",
      "  warnings.warn(msg, UserWarning)\n",
      "c:\\softwares\\python3.8.1\\lib\\site-packages\\seaborn\\categorical.py:1296: UserWarning: 10.0% of the points cannot be placed; you may want to decrease the size of the markers or use stripplot.\n",
      "  warnings.warn(msg, UserWarning)\n",
      "c:\\softwares\\python3.8.1\\lib\\site-packages\\seaborn\\categorical.py:1296: UserWarning: 33.3% of the points cannot be placed; you may want to decrease the size of the markers or use stripplot.\n",
      "  warnings.warn(msg, UserWarning)\n",
      "c:\\softwares\\python3.8.1\\lib\\site-packages\\seaborn\\categorical.py:1296: UserWarning: 29.2% of the points cannot be placed; you may want to decrease the size of the markers or use stripplot.\n",
      "  warnings.warn(msg, UserWarning)\n",
      "c:\\softwares\\python3.8.1\\lib\\site-packages\\seaborn\\categorical.py:1296: UserWarning: 36.3% of the points cannot be placed; you may want to decrease the size of the markers or use stripplot.\n",
      "  warnings.warn(msg, UserWarning)\n",
      "c:\\softwares\\python3.8.1\\lib\\site-packages\\seaborn\\categorical.py:1296: UserWarning: 59.5% of the points cannot be placed; you may want to decrease the size of the markers or use stripplot.\n",
      "  warnings.warn(msg, UserWarning)\n"
     ]
    },
    {
     "data": {
      "image/png": "[encoded data removed]",
      "text/plain": [
       "<Figure size 1008x1008 with 6 Axes>"
      ]
     },
     "metadata": {
      "needs_background": "light"
     },
     "output_type": "display_data"
    }
   ],
   "source": [
    "fig, axes = plt.subplots(3, 2, figsize=(14, 14))\n",
    "\n",
    "# PLOT 1 \n",
    "axes[0, 0].set_title('How many movies earned more the $500M ? ')\n",
    "_ = axes[0, 0].hist(data['Revenue (Millions)'], bins=np.arange(0, 800, 50))\n",
    "axes[0, 0].set(xlabel='Revenue in millions', ylabel='Number of Movies/Shows')\n",
    "\n",
    "# PLOT 2 \n",
    "axes[0, 1].set_title('How many movies rated above 7.5 ?')\n",
    "_ = axes[0, 1].hist(data.Rating, bins=np.arange(0, 10, .5))\n",
    "_ = axes[0, 1].set( xlabel='IMDB Rating')\n",
    "\n",
    "# PLOT 3 \n",
    "axes[1, 0].set_title('How many movies released every year and rated above 7.5 ?')\n",
    "chart = sns.swarmplot(y='Rating', x='Year', data=data, ax=axes[1,0])\n",
    "_ = axes[1, 0].set( ylabel='IMDB Rating', xlabel='Year Released')\n",
    "chart.set_xticklabels(chart.get_xticklabels(), rotation=90)\n",
    "\n",
    "def ecdf(data):\n",
    "    n = len(data)\n",
    "    x = np.sort(data)\n",
    "    y = np.arange(1, n+1) / n\n",
    "    return x, y\n",
    "\n",
    "# PLOT 4 \n",
    "axes[1, 1].set_title('ECDF Analysis on IMDB Rating ')\n",
    "x_vers, y_vers = ecdf(data.Rating)\n",
    "_ = axes[1, 1].plot(x_vers, y_vers, marker='.', linestyle='none')\n",
    "_ = axes[1, 1].set(xlabel='IMDB Rating', ylabel='ECDF')\n",
    "\n",
    "# PLOT 5 \n",
    "axes[2, 0].set_title('Year Vs Ratings ')\n",
    "chart = sns.boxplot(x='Year', y='Rating', data=data,  ax=axes[2,0])\n",
    "chart.set_xticklabels(chart.get_xticklabels(), rotation=90)\n",
    "_ = axes[2, 0].set( ylabel='IMDB Rating', xlabel='Year Released')\n",
    "\n",
    "# PLOT 6\n",
    "axes[2, 1].set_title('Revenue Vs Rating ')\n",
    "_ = axes[2, 1].plot(data.Rating, data['Revenue (Millions)'], marker='.', linestyle='none')\n",
    "_ = axes[2, 1].set( xlabel='IMDB Rating', ylabel='Revenue in millions')\n",
    "\n",
    "\n",
    "plt.tight_layout(pad=2.0)\n",
    "plt.show()"
   ]
  },
  {
   "cell_type": "markdown",
   "metadata": {},
   "source": [
    "#### Which are the movies that made the lowest revenue?"
   ]
  },
  {
   "cell_type": "code",
   "execution_count": 43,
   "metadata": {},
   "outputs": [
    {
     "data": {
      "text/html": [
       "<div>\n",
       "<style scoped>\n",
       "    .dataframe tbody tr th:only-of-type {\n",
       "        vertical-align: middle;\n",
       "    }\n",
       "\n",
       "    .dataframe tbody tr th {\n",
       "        vertical-align: top;\n",
       "    }\n",
       "\n",
       "    .dataframe thead th {\n",
       "        text-align: right;\n",
       "    }\n",
       "</style>\n",
       "<table border=\"1\" class=\"dataframe\">\n",
       "  <thead>\n",
       "    <tr style=\"text-align: right;\">\n",
       "      <th></th>\n",
       "      <th>Rank</th>\n",
       "      <th>Title</th>\n",
       "      <th>Genre</th>\n",
       "      <th>Description</th>\n",
       "      <th>Director</th>\n",
       "      <th>Actors</th>\n",
       "      <th>Year</th>\n",
       "      <th>Runtime (Minutes)</th>\n",
       "      <th>Rating</th>\n",
       "      <th>Votes</th>\n",
       "      <th>Revenue (Millions)</th>\n",
       "      <th>Metascore</th>\n",
       "    </tr>\n",
       "  </thead>\n",
       "  <tbody>\n",
       "    <tr>\n",
       "      <th>231</th>\n",
       "      <td>232</td>\n",
       "      <td>A Kind of Murder</td>\n",
       "      <td>Crime,Drama,Thriller</td>\n",
       "      <td>In 1960s New York, Walter Stackhouse is a succ...</td>\n",
       "      <td>Andy Goddard</td>\n",
       "      <td>Patrick Wilson, Jessica Biel, Haley Bennett, V...</td>\n",
       "      <td>2016</td>\n",
       "      <td>95</td>\n",
       "      <td>5.2</td>\n",
       "      <td>3305</td>\n",
       "      <td>0.00</td>\n",
       "      <td>50.0</td>\n",
       "    </tr>\n",
       "    <tr>\n",
       "      <th>961</th>\n",
       "      <td>962</td>\n",
       "      <td>Into the Forest</td>\n",
       "      <td>Drama,Sci-Fi,Thriller</td>\n",
       "      <td>After a massive power outage, two sisters lear...</td>\n",
       "      <td>Patricia Rozema</td>\n",
       "      <td>Ellen Page, Evan Rachel Wood, Max Minghella,Ca...</td>\n",
       "      <td>2015</td>\n",
       "      <td>101</td>\n",
       "      <td>5.9</td>\n",
       "      <td>10220</td>\n",
       "      <td>0.01</td>\n",
       "      <td>59.0</td>\n",
       "    </tr>\n",
       "    <tr>\n",
       "      <th>677</th>\n",
       "      <td>678</td>\n",
       "      <td>Love, Rosie</td>\n",
       "      <td>Comedy,Romance</td>\n",
       "      <td>Rosie and Alex have been best friends since th...</td>\n",
       "      <td>Christian Ditter</td>\n",
       "      <td>Lily Collins, Sam Claflin, Christian Cooke, Ja...</td>\n",
       "      <td>2014</td>\n",
       "      <td>102</td>\n",
       "      <td>7.2</td>\n",
       "      <td>80415</td>\n",
       "      <td>0.01</td>\n",
       "      <td>44.0</td>\n",
       "    </tr>\n",
       "    <tr>\n",
       "      <th>321</th>\n",
       "      <td>322</td>\n",
       "      <td>Lovesong</td>\n",
       "      <td>Drama</td>\n",
       "      <td>The relationship between two friends deepens d...</td>\n",
       "      <td>So Yong Kim</td>\n",
       "      <td>Riley Keough, Jena Malone, Jessie Ok Gray, Car...</td>\n",
       "      <td>2016</td>\n",
       "      <td>84</td>\n",
       "      <td>6.4</td>\n",
       "      <td>616</td>\n",
       "      <td>0.01</td>\n",
       "      <td>74.0</td>\n",
       "    </tr>\n",
       "    <tr>\n",
       "      <th>68</th>\n",
       "      <td>69</td>\n",
       "      <td>Wakefield</td>\n",
       "      <td>Drama</td>\n",
       "      <td>A man's nervous breakdown causes him to leave ...</td>\n",
       "      <td>Robin Swicord</td>\n",
       "      <td>Bryan Cranston, Jennifer Garner, Beverly D'Ang...</td>\n",
       "      <td>2016</td>\n",
       "      <td>106</td>\n",
       "      <td>7.5</td>\n",
       "      <td>291</td>\n",
       "      <td>0.01</td>\n",
       "      <td>61.0</td>\n",
       "    </tr>\n",
       "    <tr>\n",
       "      <th>27</th>\n",
       "      <td>28</td>\n",
       "      <td>Dead Awake</td>\n",
       "      <td>Horror,Thriller</td>\n",
       "      <td>A young woman must save herself and her friend...</td>\n",
       "      <td>Phillip Guzman</td>\n",
       "      <td>Jocelin Donahue, Jesse Bradford, Jesse Borrego...</td>\n",
       "      <td>2016</td>\n",
       "      <td>99</td>\n",
       "      <td>4.7</td>\n",
       "      <td>523</td>\n",
       "      <td>0.01</td>\n",
       "      <td>NaN</td>\n",
       "    </tr>\n",
       "    <tr>\n",
       "      <th>661</th>\n",
       "      <td>662</td>\n",
       "      <td>The First Time</td>\n",
       "      <td>Comedy,Drama,Romance</td>\n",
       "      <td>A shy senior and a down-to-earth junior fall i...</td>\n",
       "      <td>Jon Kasdan</td>\n",
       "      <td>Dylan O'Brien, Britt Robertson, Victoria Justi...</td>\n",
       "      <td>2012</td>\n",
       "      <td>95</td>\n",
       "      <td>6.9</td>\n",
       "      <td>54027</td>\n",
       "      <td>0.02</td>\n",
       "      <td>55.0</td>\n",
       "    </tr>\n",
       "    <tr>\n",
       "      <th>736</th>\n",
       "      <td>737</td>\n",
       "      <td>The Blackcoat's Daughter</td>\n",
       "      <td>Horror,Thriller</td>\n",
       "      <td>Two girls must battle a mysterious evil force ...</td>\n",
       "      <td>Oz Perkins</td>\n",
       "      <td>Emma Roberts, Kiernan Shipka, Lauren Holly, Lu...</td>\n",
       "      <td>2015</td>\n",
       "      <td>93</td>\n",
       "      <td>5.6</td>\n",
       "      <td>4155</td>\n",
       "      <td>0.02</td>\n",
       "      <td>68.0</td>\n",
       "    </tr>\n",
       "    <tr>\n",
       "      <th>927</th>\n",
       "      <td>928</td>\n",
       "      <td>The Sea of Trees</td>\n",
       "      <td>Drama</td>\n",
       "      <td>A suicidal American befriends a Japanese man l...</td>\n",
       "      <td>Gus Van Sant</td>\n",
       "      <td>Matthew McConaughey, Naomi Watts, Ken Watanabe...</td>\n",
       "      <td>2015</td>\n",
       "      <td>110</td>\n",
       "      <td>5.9</td>\n",
       "      <td>7475</td>\n",
       "      <td>0.02</td>\n",
       "      <td>23.0</td>\n",
       "    </tr>\n",
       "    <tr>\n",
       "      <th>490</th>\n",
       "      <td>491</td>\n",
       "      <td>Stake Land</td>\n",
       "      <td>Drama,Horror,Sci-Fi</td>\n",
       "      <td>Martin was a normal teenage boy before the cou...</td>\n",
       "      <td>Jim Mickle</td>\n",
       "      <td>Connor Paolo, Nick Damici, Kelly McGillis, Gre...</td>\n",
       "      <td>2010</td>\n",
       "      <td>98</td>\n",
       "      <td>6.5</td>\n",
       "      <td>36091</td>\n",
       "      <td>0.02</td>\n",
       "      <td>66.0</td>\n",
       "    </tr>\n",
       "  </tbody>\n",
       "</table>\n",
       "</div>"
      ],
      "text/plain": [
       "     Rank                     Title                  Genre  \\\n",
       "231   232          A Kind of Murder   Crime,Drama,Thriller   \n",
       "961   962           Into the Forest  Drama,Sci-Fi,Thriller   \n",
       "677   678               Love, Rosie         Comedy,Romance   \n",
       "321   322                  Lovesong                  Drama   \n",
       "68     69                 Wakefield                  Drama   \n",
       "27     28                Dead Awake        Horror,Thriller   \n",
       "661   662            The First Time   Comedy,Drama,Romance   \n",
       "736   737  The Blackcoat's Daughter        Horror,Thriller   \n",
       "927   928          The Sea of Trees                  Drama   \n",
       "490   491                Stake Land    Drama,Horror,Sci-Fi   \n",
       "\n",
       "                                           Description          Director  \\\n",
       "231  In 1960s New York, Walter Stackhouse is a succ...      Andy Goddard   \n",
       "961  After a massive power outage, two sisters lear...   Patricia Rozema   \n",
       "677  Rosie and Alex have been best friends since th...  Christian Ditter   \n",
       "321  The relationship between two friends deepens d...       So Yong Kim   \n",
       "68   A man's nervous breakdown causes him to leave ...     Robin Swicord   \n",
       "27   A young woman must save herself and her friend...    Phillip Guzman   \n",
       "661  A shy senior and a down-to-earth junior fall i...        Jon Kasdan   \n",
       "736  Two girls must battle a mysterious evil force ...        Oz Perkins   \n",
       "927  A suicidal American befriends a Japanese man l...      Gus Van Sant   \n",
       "490  Martin was a normal teenage boy before the cou...        Jim Mickle   \n",
       "\n",
       "                                                Actors  Year  \\\n",
       "231  Patrick Wilson, Jessica Biel, Haley Bennett, V...  2016   \n",
       "961  Ellen Page, Evan Rachel Wood, Max Minghella,Ca...  2015   \n",
       "677  Lily Collins, Sam Claflin, Christian Cooke, Ja...  2014   \n",
       "321  Riley Keough, Jena Malone, Jessie Ok Gray, Car...  2016   \n",
       "68   Bryan Cranston, Jennifer Garner, Beverly D'Ang...  2016   \n",
       "27   Jocelin Donahue, Jesse Bradford, Jesse Borrego...  2016   \n",
       "661  Dylan O'Brien, Britt Robertson, Victoria Justi...  2012   \n",
       "736  Emma Roberts, Kiernan Shipka, Lauren Holly, Lu...  2015   \n",
       "927  Matthew McConaughey, Naomi Watts, Ken Watanabe...  2015   \n",
       "490  Connor Paolo, Nick Damici, Kelly McGillis, Gre...  2010   \n",
       "\n",
       "     Runtime (Minutes)  Rating  Votes  Revenue (Millions)  Metascore  \n",
       "231                 95     5.2   3305                0.00       50.0  \n",
       "961                101     5.9  10220                0.01       59.0  \n",
       "677                102     7.2  80415                0.01       44.0  \n",
       "321                 84     6.4    616                0.01       74.0  \n",
       "68                 106     7.5    291                0.01       61.0  \n",
       "27                  99     4.7    523                0.01        NaN  \n",
       "661                 95     6.9  54027                0.02       55.0  \n",
       "736                 93     5.6   4155                0.02       68.0  \n",
       "927                110     5.9   7475                0.02       23.0  \n",
       "490                 98     6.5  36091                0.02       66.0  "
      ]
     },
     "execution_count": 43,
     "metadata": {},
     "output_type": "execute_result"
    }
   ],
   "source": [
    "data.sort_values(by=['Revenue (Millions)']).head(10)"
   ]
  },
  {
   "cell_type": "code",
   "execution_count": 37,
   "metadata": {},
   "outputs": [
    {
     "data": {
      "text/plain": [
       "Text(0.5, 1.0, 'Lowest earning movies')"
      ]
     },
     "execution_count": 37,
     "metadata": {},
     "output_type": "execute_result"
    },
    {
     "data": {
      "image/png": "[encoded data removed]",
      "text/plain": [
       "<Figure size 1080x576 with 1 Axes>"
      ]
     },
     "metadata": {
      "needs_background": "light"
     },
     "output_type": "display_data"
    }
   ],
   "source": [
    "data.groupby(['Title'])['Revenue (Millions)'].mean().sort_values(ascending=True)[:10].plot(kind='bar', figsize=(15,8), fontsize=13, color='red')\n",
    "plt.ylabel('Revenue')\n",
    "plt.title(\"Lowest earning movies\")"
   ]
  },
  {
   "cell_type": "markdown",
   "metadata": {},
   "source": [
    "#### Which is the top revenue making movie for each year?"
   ]
  },
  {
   "cell_type": "code",
   "execution_count": 38,
   "metadata": {},
   "outputs": [
    {
     "data": {
      "text/plain": [
       "Text(0.5, 1.0, 'Highest earning movies by years')"
      ]
     },
     "execution_count": 38,
     "metadata": {},
     "output_type": "execute_result"
    },
    {
     "data": {
      "image/png": "[encoded data removed]",
      "text/plain": [
       "<Figure size 720x576 with 1 Axes>"
      ]
     },
     "metadata": {
      "needs_background": "light"
     },
     "output_type": "display_data"
    }
   ],
   "source": [
    "tmp=data.sort_values(by=['Revenue (Millions)'], ascending=False).groupby('Year').first()\n",
    "tmp.groupby(['Title','Year'])['Revenue (Millions)'].sum().sort_values().plot.bar(x='Title', y='Revenue', figsize=(10,8))\n",
    "plt.ylabel('Revenue in Millions(USD)')\n",
    "plt.title(\"Highest earning movies by years\")"
   ]
  },
  {
   "cell_type": "markdown",
   "metadata": {
    "colab_type": "text",
    "id": "Pqk4cV2wrIIZ"
   },
   "source": [
    "---\n",
    "<a name = Section9></a>\n",
    "# **9. Summarization**\n",
    "---"
   ]
  },
  {
   "cell_type": "markdown",
   "metadata": {
    "colab_type": "text",
    "id": "wducAS9QrPfZ"
   },
   "source": [
    "<a name = Section91></a>\n",
    "### **9.1 Conclusion**\n",
    "\n",
    "- In this part you need to provide a conclusion about your overall analysis.\n",
    "\n",
    "- Write down some short points that you have observed so far."
   ]
  },
  {
   "cell_type": "markdown",
   "metadata": {},
   "source": [
    "Conclusions that I can make about this analysis:\n",
    "\n",
    "- Since, there were negligible amount of null values. We can say that the data preparation/accumulation is done very accurately.\n",
    "- The data has majority of movies from the year 2016.\n",
    "- There are no duplicates in the dataset. That means there is no case of data redundancy in this dataset.\n",
    "- Features like revenue and votes are most likely to have outliers.\n",
    "- Rating, votes and runtime are highly correlated with metascore and they can be used for the prediction of metascore (or we can say for model training/building).\n",
    "- Post-Profiling (after manipulation) showed us:\n",
    "    - the most frequent Metascore has been changed to 59.5\n",
    "    - the correlation of some column/features as been changed.\n",
    "- David Yates and Michael Bay are two directors that have made movies that have made the highest revenues.\n",
    "- We got to know the movies that have made the highest revenue from each year.\n",
    "- 'A kind of Murder' is one of the lowest revenue making movie.\n",
    "- Movies directed by David Yates have made the most revenue (sum). And many movie watchers/viewers love some particular type of directors and some particular directors and actors, so we can say that yes, director and the actors matter or are highly correlated in making the revenue go higher or lower.\n",
    "- Movies with Animation,Adventure and Comedy genre are the movies that make the most money/revenue.\n",
    "- The film industry has become more popular than ever."
   ]
  },
  {
   "cell_type": "markdown",
   "metadata": {
    "colab_type": "text",
    "id": "z3MtiiACrVJq"
   },
   "source": [
    "<a name = Section92></a>\n",
    "### **9.2 Actionable Insights**\n",
    "\n",
    "- This is a very crucial part where you will present your actionable insights.\n",
    "- You need to give suggestions about what could be applied and what not.\n",
    "- Make sure that these suggestions are short and to the point, ultimately it's a catalyst to your business."
   ]
  },
  {
   "cell_type": "markdown",
   "metadata": {},
   "source": [
    "Insights:\n",
    "\n",
    "- Features like revenue and votes are most likely to have outliers. So one should always take care of features or variables that can have any big value.\n",
    "- As we can see from the correlation matrix that Rating, votes and runtime are highly correlated with metascore. So, they can be used for the prediction of metascore (or we can say for model training/building).\n",
    "- Since, movies directed by David Yates have made the most revenue (sum). And many movie watchers/viewers love some particular type of directors or we can say that viewers love particular directors and actors, so we can say that yes, director and the actors matter. In simple words, directors and actors are highly correlated in making the revenue go higher or lower.\n",
    "- Since, movies with Animation,Adventure and Comedy genre are the movies that make the most money/revenue. Directors/movie makers can focus on genre that are most popular among viewers and can make better profit or we can say that these genre are less risky from the money point of view.\n",
    "- Since, the film industry has become more popular than ever, movie makers should focus on taking the film industry to higher heights by introducing new story lines, creative ideas, better animation, more sense of humour in there comedy. So that more viewers can be attracted.\n",
    "- The movies that have made the lowest revenues are mostly of Drama and Horror genre. From this insight we can make a recommendation that movie makers should work on these genre to make them more revenue making and creative work should be done in these genre to attract viewers. And we can also say that these genre movies are very risky from the point of making profit."
   ]
  }
 ],
 "metadata": {
  "colab": {
   "authorship_tag": "ABX9TyPh6bsstphHuAvkO+IACtWM",
   "collapsed_sections": [],
   "name": "Analsyis on Movies Data.ipynb",
   "provenance": []
  },
  "kernelspec": {
   "display_name": "Python 3",
   "language": "python",
   "name": "python3"
  },
  "language_info": {
   "codemirror_mode": {
    "name": "ipython",
    "version": 3
   },
   "file_extension": ".py",
   "mimetype": "text/x-python",
   "name": "python",
   "nbconvert_exporter": "python",
   "pygments_lexer": "ipython3",
   "version": "3.8.1"
  }
 },
 "nbformat": 4,
 "nbformat_minor": 1
}
